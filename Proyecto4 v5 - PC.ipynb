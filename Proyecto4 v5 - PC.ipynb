{
 "cells": [
  {
   "cell_type": "markdown",
   "metadata": {
    "colab_type": "text",
    "id": "38tA-ErIC4OD"
   },
   "source": [
    "# Indice\n",
    "\n",
    "### 1- Introduccion - Objetivos\n",
    "\n",
    "### 1.1 - Conclusiones Finales Generales.\n",
    "\n",
    "### 2 - EDA / Preprocesamiento\n",
    "\n",
    "### 2.1 - Analisis inicial de Datos.\n",
    "\n",
    "### 2.2 - Unificacion de dataset.\n",
    "\n",
    "### 2.3 - Detección y eliminación de Outliers y valores erroneos\n",
    "\n",
    "### 2.4 - Valores nulos \n",
    "\n",
    "### 2.5 - Escalado de Datos\n",
    "\n",
    "### 2.6 - Encoding\n",
    "\n",
    "### 3 - Comparacion por RMSE con resultados del mejor modelo del proyecto 2\n",
    "\n",
    "### 3.1 - XGboost con df new_properati_Capital1_All_sin_bedrooms_clean_l3_security3\n",
    "\n",
    "### 3.2 - XGboost con df new_properati_Capital1_All_sin_bedrooms_clean_l3_security_normalizado3.\n",
    "\n",
    "### 3.3 - XGboost con df new_properati_Capital1_All_sin_bedrooms_clean_l3_security3 pero solo con los 6 atributos que utilice en el proyecto2.\n",
    "\n",
    "### 3.4 - XGboost con df new_properati_Capital1_All_sin_bedrooms_clean_l3_security_normalizado3 pero solo con los 6 atributos que utilice en el proyecto2.\n",
    "\n",
    "### 3.5 - Conclusiones/Resultados del RMSE\n",
    "\n",
    "### 4 - Reduccion de tiempo de fit/Reduccion de dimensionalidad por PCA\n",
    "\n",
    "### 4.1 - Conclusiones/Resultados del PCA\n",
    "\n",
    "### 5 - Conclusiones Generales Finales.\n",
    "__________________________________________________________________________________________________________________________________________________________________________________________________________________________________________________________________________________________________________\n"
   ]
  },
  {
   "cell_type": "markdown",
   "metadata": {},
   "source": [
    "### 1- Introduccion - Objetivo"
   ]
  },
  {
   "cell_type": "markdown",
   "metadata": {},
   "source": [
    "#### - El mejor RMSE conseguido en el proyecto2 fue con el modelo XGBoost que utilizaremos aca tambien.\n",
    "\n",
    "#### - El df con el que se trabajo y que volveremos a utilizar aca es el new_properati_Capital1_All_sin_bedrooms_clean.\n",
    "\n",
    "#### - En este proyecto intentare mejorar el mejor RMSE conseguido en el proyecto2.\n",
    "\n",
    "#### - Para eso utilizare un dataset conseguidos en una web del Gobierno de la Ciudad de Buenos Aires (Capital Federal) sobre distintos tipos de delitos cometidos. Intuyo que en los valores de las propiedades influye mucho el nivel de seguridad de los distintos barrios, donde se encuentra el inmueble.\n",
    "\n",
    "#### - Lo hare con dos df; uno normalizado y el otro no.\n",
    "\n",
    "#### - Si consigo este objetivo aplicare sobre el modelo que me de mejor resultrado el PCA para hacer una reduccion de dimensionalidad para reducir el tiempo de fit. Tengo en cuenta que al agregar un feature por barrio el df a procesar habra aumentado mucho.\n",
    "\n",
    "#### - Voy a medir los tiempos de fit.\n",
    "\n",
    "#### - Los dataset con los que trabajaremos se encuentran en el repositorio https://github.com/cunimachine/Acamica-Proyecto4_Properati.git\n"
   ]
  },
  {
   "cell_type": "markdown",
   "metadata": {},
   "source": [
    "### 1.1 - Conclusiones Finales Generales."
   ]
  },
  {
   "cell_type": "markdown",
   "metadata": {},
   "source": [
    "### - La mejora en el RMSE Test de este df del proyecto2, habiendole agregado los atributos de seguridad, fue de un __32%__.\n",
    "\n",
    "### - Esa mejora en el RMSe Test de un 32 % es igual para el df normalizado o no; (new_properati_Capital1_All_sin_bedrooms_clean_l3_security_normalizado3 o new_properati_Capital1_All_sin_bedrooms_clean_l3_security3)\n",
    "\n",
    "### - Luego del PCA, si bien el tiempo de fit se redujo de 207 a 90 minutos (56%), con 7 componentes, el RMSE de Train con respecto a Test, se amplio de 0.01677 a 0.063167 (270%). Este es el mayor problema ya que muestra un aumento del sobreajuste. Ademas el RMSE Test aumento un 27%;  de 0.33692 a 0.4292."
   ]
  },
  {
   "cell_type": "markdown",
   "metadata": {},
   "source": [
    "### 2 - EDA / Preprocesamiento\n",
    "\n",
    "### 2.1 - Analisis inicial de Datos."
   ]
  },
  {
   "cell_type": "code",
   "execution_count": 1,
   "metadata": {},
   "outputs": [],
   "source": [
    "import numpy as np\n",
    "import pandas as pd\n",
    "import matplotlib.pyplot as plt\n",
    "import seaborn as sns\n",
    "\n",
    "seguridad2019= pd.read_csv(\"/Users/Gerardo Masucci/Acamica/Proyecto 4/Dataset/delitos_2019.csv\")"
   ]
  },
  {
   "cell_type": "code",
   "execution_count": 2,
   "metadata": {},
   "outputs": [
    {
     "data": {
      "text/html": [
       "<div>\n",
       "<style scoped>\n",
       "    .dataframe tbody tr th:only-of-type {\n",
       "        vertical-align: middle;\n",
       "    }\n",
       "\n",
       "    .dataframe tbody tr th {\n",
       "        vertical-align: top;\n",
       "    }\n",
       "\n",
       "    .dataframe thead th {\n",
       "        text-align: right;\n",
       "    }\n",
       "</style>\n",
       "<table border=\"1\" class=\"dataframe\">\n",
       "  <thead>\n",
       "    <tr style=\"text-align: right;\">\n",
       "      <th></th>\n",
       "      <th>id</th>\n",
       "      <th>fecha</th>\n",
       "      <th>franja_horaria</th>\n",
       "      <th>tipo_delito</th>\n",
       "      <th>subtipo_delito</th>\n",
       "      <th>cantidad_registrada</th>\n",
       "      <th>comuna</th>\n",
       "      <th>barrio</th>\n",
       "      <th>lat</th>\n",
       "      <th>long</th>\n",
       "    </tr>\n",
       "  </thead>\n",
       "  <tbody>\n",
       "    <tr>\n",
       "      <th>0</th>\n",
       "      <td>374556</td>\n",
       "      <td>2019-01-01</td>\n",
       "      <td>12</td>\n",
       "      <td>Lesiones</td>\n",
       "      <td>Siniestro Vial</td>\n",
       "      <td>1.0</td>\n",
       "      <td>4.0</td>\n",
       "      <td>Nueva Pompeya</td>\n",
       "      <td>-34.648387</td>\n",
       "      <td>-58.404748</td>\n",
       "    </tr>\n",
       "    <tr>\n",
       "      <th>1</th>\n",
       "      <td>426152</td>\n",
       "      <td>2019-01-01</td>\n",
       "      <td>6</td>\n",
       "      <td>Robo (con violencia)</td>\n",
       "      <td>NaN</td>\n",
       "      <td>1.0</td>\n",
       "      <td>9.0</td>\n",
       "      <td>Liniers</td>\n",
       "      <td>-34.649827</td>\n",
       "      <td>-58.513859</td>\n",
       "    </tr>\n",
       "    <tr>\n",
       "      <th>2</th>\n",
       "      <td>371604</td>\n",
       "      <td>2019-01-01</td>\n",
       "      <td>8</td>\n",
       "      <td>Lesiones</td>\n",
       "      <td>Siniestro Vial</td>\n",
       "      <td>1.0</td>\n",
       "      <td>15.0</td>\n",
       "      <td>Chacarita</td>\n",
       "      <td>-34.588108</td>\n",
       "      <td>-58.439392</td>\n",
       "    </tr>\n",
       "    <tr>\n",
       "      <th>3</th>\n",
       "      <td>425359</td>\n",
       "      <td>2019-01-01</td>\n",
       "      <td>16</td>\n",
       "      <td>Hurto (sin violencia)</td>\n",
       "      <td>Hurto Automotor</td>\n",
       "      <td>1.0</td>\n",
       "      <td>10.0</td>\n",
       "      <td>Floresta</td>\n",
       "      <td>-34.631877</td>\n",
       "      <td>-58.483975</td>\n",
       "    </tr>\n",
       "    <tr>\n",
       "      <th>4</th>\n",
       "      <td>437571</td>\n",
       "      <td>2019-01-01</td>\n",
       "      <td>2</td>\n",
       "      <td>Robo (con violencia)</td>\n",
       "      <td>Robo Automotor</td>\n",
       "      <td>1.0</td>\n",
       "      <td>4.0</td>\n",
       "      <td>Parque Patricios</td>\n",
       "      <td>-34.633161</td>\n",
       "      <td>-58.397123</td>\n",
       "    </tr>\n",
       "  </tbody>\n",
       "</table>\n",
       "</div>"
      ],
      "text/plain": [
       "       id       fecha franja_horaria            tipo_delito   subtipo_delito  \\\n",
       "0  374556  2019-01-01             12               Lesiones   Siniestro Vial   \n",
       "1  426152  2019-01-01              6   Robo (con violencia)              NaN   \n",
       "2  371604  2019-01-01              8               Lesiones   Siniestro Vial   \n",
       "3  425359  2019-01-01             16  Hurto (sin violencia)  Hurto Automotor   \n",
       "4  437571  2019-01-01              2   Robo (con violencia)   Robo Automotor   \n",
       "\n",
       "   cantidad_registrada  comuna            barrio        lat       long  \n",
       "0                  1.0     4.0     Nueva Pompeya -34.648387 -58.404748  \n",
       "1                  1.0     9.0           Liniers -34.649827 -58.513859  \n",
       "2                  1.0    15.0         Chacarita -34.588108 -58.439392  \n",
       "3                  1.0    10.0          Floresta -34.631877 -58.483975  \n",
       "4                  1.0     4.0  Parque Patricios -34.633161 -58.397123  "
      ]
     },
     "metadata": {},
     "output_type": "display_data"
    }
   ],
   "source": [
    "display(seguridad2019.head())\n"
   ]
  },
  {
   "cell_type": "code",
   "execution_count": 3,
   "metadata": {},
   "outputs": [
    {
     "data": {
      "text/plain": [
       "(117661, 10)"
      ]
     },
     "metadata": {},
     "output_type": "display_data"
    }
   ],
   "source": [
    "display(seguridad2019.shape)\n"
   ]
  },
  {
   "cell_type": "code",
   "execution_count": 4,
   "metadata": {},
   "outputs": [
    {
     "name": "stdout",
     "output_type": "stream",
     "text": [
      "<class 'pandas.core.frame.DataFrame'>\n",
      "RangeIndex: 117661 entries, 0 to 117660\n",
      "Data columns (total 10 columns):\n",
      " #   Column               Non-Null Count   Dtype  \n",
      "---  ------               --------------   -----  \n",
      " 0   id                   117661 non-null  int64  \n",
      " 1   fecha                117661 non-null  object \n",
      " 2   franja_horaria       117661 non-null  object \n",
      " 3   tipo_delito          117661 non-null  object \n",
      " 4   subtipo_delito       11676 non-null   object \n",
      " 5   cantidad_registrada  117661 non-null  float64\n",
      " 6   comuna               117064 non-null  float64\n",
      " 7   barrio               117064 non-null  object \n",
      " 8   lat                  117064 non-null  float64\n",
      " 9   long                 117064 non-null  float64\n",
      "dtypes: float64(4), int64(1), object(5)\n",
      "memory usage: 9.0+ MB\n"
     ]
    }
   ],
   "source": [
    "seguridad2019.info()"
   ]
  },
  {
   "cell_type": "code",
   "execution_count": 5,
   "metadata": {},
   "outputs": [
    {
     "data": {
      "text/html": [
       "<div>\n",
       "<style scoped>\n",
       "    .dataframe tbody tr th:only-of-type {\n",
       "        vertical-align: middle;\n",
       "    }\n",
       "\n",
       "    .dataframe tbody tr th {\n",
       "        vertical-align: top;\n",
       "    }\n",
       "\n",
       "    .dataframe thead th {\n",
       "        text-align: right;\n",
       "    }\n",
       "</style>\n",
       "<table border=\"1\" class=\"dataframe\">\n",
       "  <thead>\n",
       "    <tr style=\"text-align: right;\">\n",
       "      <th></th>\n",
       "      <th>id</th>\n",
       "      <th>cantidad_registrada</th>\n",
       "      <th>comuna</th>\n",
       "      <th>lat</th>\n",
       "      <th>long</th>\n",
       "    </tr>\n",
       "  </thead>\n",
       "  <tbody>\n",
       "    <tr>\n",
       "      <th>count</th>\n",
       "      <td>117661.000000</td>\n",
       "      <td>117661.000000</td>\n",
       "      <td>117064.000000</td>\n",
       "      <td>117064.000000</td>\n",
       "      <td>117064.000000</td>\n",
       "    </tr>\n",
       "    <tr>\n",
       "      <th>mean</th>\n",
       "      <td>429709.839565</td>\n",
       "      <td>1.000059</td>\n",
       "      <td>7.131868</td>\n",
       "      <td>-34.611337</td>\n",
       "      <td>-58.432901</td>\n",
       "    </tr>\n",
       "    <tr>\n",
       "      <th>std</th>\n",
       "      <td>33968.245351</td>\n",
       "      <td>0.007713</td>\n",
       "      <td>4.705622</td>\n",
       "      <td>0.029763</td>\n",
       "      <td>0.042494</td>\n",
       "    </tr>\n",
       "    <tr>\n",
       "      <th>min</th>\n",
       "      <td>353583.000000</td>\n",
       "      <td>1.000000</td>\n",
       "      <td>1.000000</td>\n",
       "      <td>-34.703796</td>\n",
       "      <td>-58.531279</td>\n",
       "    </tr>\n",
       "    <tr>\n",
       "      <th>25%</th>\n",
       "      <td>400296.000000</td>\n",
       "      <td>1.000000</td>\n",
       "      <td>3.000000</td>\n",
       "      <td>-34.630664</td>\n",
       "      <td>-58.466549</td>\n",
       "    </tr>\n",
       "    <tr>\n",
       "      <th>50%</th>\n",
       "      <td>429711.000000</td>\n",
       "      <td>1.000000</td>\n",
       "      <td>7.000000</td>\n",
       "      <td>-34.609089</td>\n",
       "      <td>-58.428872</td>\n",
       "    </tr>\n",
       "    <tr>\n",
       "      <th>75%</th>\n",
       "      <td>459126.000000</td>\n",
       "      <td>1.000000</td>\n",
       "      <td>12.000000</td>\n",
       "      <td>-34.592245</td>\n",
       "      <td>-58.397927</td>\n",
       "    </tr>\n",
       "    <tr>\n",
       "      <th>max</th>\n",
       "      <td>488541.000000</td>\n",
       "      <td>2.000000</td>\n",
       "      <td>15.000000</td>\n",
       "      <td>-34.528497</td>\n",
       "      <td>-58.343409</td>\n",
       "    </tr>\n",
       "  </tbody>\n",
       "</table>\n",
       "</div>"
      ],
      "text/plain": [
       "                  id  cantidad_registrada         comuna            lat  \\\n",
       "count  117661.000000        117661.000000  117064.000000  117064.000000   \n",
       "mean   429709.839565             1.000059       7.131868     -34.611337   \n",
       "std     33968.245351             0.007713       4.705622       0.029763   \n",
       "min    353583.000000             1.000000       1.000000     -34.703796   \n",
       "25%    400296.000000             1.000000       3.000000     -34.630664   \n",
       "50%    429711.000000             1.000000       7.000000     -34.609089   \n",
       "75%    459126.000000             1.000000      12.000000     -34.592245   \n",
       "max    488541.000000             2.000000      15.000000     -34.528497   \n",
       "\n",
       "                long  \n",
       "count  117064.000000  \n",
       "mean      -58.432901  \n",
       "std         0.042494  \n",
       "min       -58.531279  \n",
       "25%       -58.466549  \n",
       "50%       -58.428872  \n",
       "75%       -58.397927  \n",
       "max       -58.343409  "
      ]
     },
     "execution_count": 5,
     "metadata": {},
     "output_type": "execute_result"
    }
   ],
   "source": [
    "seguridad2019.describe()"
   ]
  },
  {
   "cell_type": "markdown",
   "metadata": {},
   "source": [
    "#### - Cantidad registrada es siempre un 1."
   ]
  },
  {
   "cell_type": "markdown",
   "metadata": {},
   "source": [
    "#### - Valores nulos "
   ]
  },
  {
   "cell_type": "code",
   "execution_count": 6,
   "metadata": {},
   "outputs": [
    {
     "data": {
      "text/plain": [
       "subtipo_delito         105985\n",
       "long                      597\n",
       "lat                       597\n",
       "barrio                    597\n",
       "comuna                    597\n",
       "cantidad_registrada         0\n",
       "tipo_delito                 0\n",
       "franja_horaria              0\n",
       "fecha                       0\n",
       "id                          0\n",
       "dtype: int64"
      ]
     },
     "metadata": {},
     "output_type": "display_data"
    },
    {
     "data": {
      "text/html": [
       "<div>\n",
       "<style scoped>\n",
       "    .dataframe tbody tr th:only-of-type {\n",
       "        vertical-align: middle;\n",
       "    }\n",
       "\n",
       "    .dataframe tbody tr th {\n",
       "        vertical-align: top;\n",
       "    }\n",
       "\n",
       "    .dataframe thead th {\n",
       "        text-align: right;\n",
       "    }\n",
       "</style>\n",
       "<table border=\"1\" class=\"dataframe\">\n",
       "  <thead>\n",
       "    <tr style=\"text-align: right;\">\n",
       "      <th></th>\n",
       "      <th>Total</th>\n",
       "      <th>%</th>\n",
       "    </tr>\n",
       "  </thead>\n",
       "  <tbody>\n",
       "    <tr>\n",
       "      <th>subtipo_delito</th>\n",
       "      <td>105985</td>\n",
       "      <td>90.1</td>\n",
       "    </tr>\n",
       "    <tr>\n",
       "      <th>long</th>\n",
       "      <td>597</td>\n",
       "      <td>0.5</td>\n",
       "    </tr>\n",
       "    <tr>\n",
       "      <th>lat</th>\n",
       "      <td>597</td>\n",
       "      <td>0.5</td>\n",
       "    </tr>\n",
       "    <tr>\n",
       "      <th>barrio</th>\n",
       "      <td>597</td>\n",
       "      <td>0.5</td>\n",
       "    </tr>\n",
       "    <tr>\n",
       "      <th>comuna</th>\n",
       "      <td>597</td>\n",
       "      <td>0.5</td>\n",
       "    </tr>\n",
       "  </tbody>\n",
       "</table>\n",
       "</div>"
      ],
      "text/plain": [
       "                 Total     %\n",
       "subtipo_delito  105985  90.1\n",
       "long               597   0.5\n",
       "lat                597   0.5\n",
       "barrio             597   0.5\n",
       "comuna             597   0.5"
      ]
     },
     "execution_count": 6,
     "metadata": {},
     "output_type": "execute_result"
    }
   ],
   "source": [
    "total = seguridad2019.isnull().sum().sort_values(ascending=False)\n",
    "percent_1 = seguridad2019.isnull().sum()/seguridad2019.isnull().count()*100\n",
    "percent_2 = (round(percent_1, 1)).sort_values(ascending=False)\n",
    "missing_data = pd.concat([total, percent_2], axis=1, keys=['Total', '%'])\n",
    "display(total)\n",
    "missing_data.head(5)\n"
   ]
  },
  {
   "cell_type": "markdown",
   "metadata": {},
   "source": [
    "#### - Saco los atributos que no voy a utilizar."
   ]
  },
  {
   "cell_type": "code",
   "execution_count": 7,
   "metadata": {},
   "outputs": [
    {
     "data": {
      "text/html": [
       "<div>\n",
       "<style scoped>\n",
       "    .dataframe tbody tr th:only-of-type {\n",
       "        vertical-align: middle;\n",
       "    }\n",
       "\n",
       "    .dataframe tbody tr th {\n",
       "        vertical-align: top;\n",
       "    }\n",
       "\n",
       "    .dataframe thead th {\n",
       "        text-align: right;\n",
       "    }\n",
       "</style>\n",
       "<table border=\"1\" class=\"dataframe\">\n",
       "  <thead>\n",
       "    <tr style=\"text-align: right;\">\n",
       "      <th></th>\n",
       "      <th>tipo_delito</th>\n",
       "      <th>cantidad_registrada</th>\n",
       "      <th>barrio</th>\n",
       "    </tr>\n",
       "  </thead>\n",
       "  <tbody>\n",
       "    <tr>\n",
       "      <th>0</th>\n",
       "      <td>Lesiones</td>\n",
       "      <td>1.0</td>\n",
       "      <td>Nueva Pompeya</td>\n",
       "    </tr>\n",
       "    <tr>\n",
       "      <th>1</th>\n",
       "      <td>Robo (con violencia)</td>\n",
       "      <td>1.0</td>\n",
       "      <td>Liniers</td>\n",
       "    </tr>\n",
       "    <tr>\n",
       "      <th>2</th>\n",
       "      <td>Lesiones</td>\n",
       "      <td>1.0</td>\n",
       "      <td>Chacarita</td>\n",
       "    </tr>\n",
       "    <tr>\n",
       "      <th>3</th>\n",
       "      <td>Hurto (sin violencia)</td>\n",
       "      <td>1.0</td>\n",
       "      <td>Floresta</td>\n",
       "    </tr>\n",
       "    <tr>\n",
       "      <th>4</th>\n",
       "      <td>Robo (con violencia)</td>\n",
       "      <td>1.0</td>\n",
       "      <td>Parque Patricios</td>\n",
       "    </tr>\n",
       "    <tr>\n",
       "      <th>...</th>\n",
       "      <td>...</td>\n",
       "      <td>...</td>\n",
       "      <td>...</td>\n",
       "    </tr>\n",
       "    <tr>\n",
       "      <th>117656</th>\n",
       "      <td>Robo (con violencia)</td>\n",
       "      <td>1.0</td>\n",
       "      <td>Villa Riachuelo</td>\n",
       "    </tr>\n",
       "    <tr>\n",
       "      <th>117657</th>\n",
       "      <td>Robo (con violencia)</td>\n",
       "      <td>1.0</td>\n",
       "      <td>Boedo</td>\n",
       "    </tr>\n",
       "    <tr>\n",
       "      <th>117658</th>\n",
       "      <td>Robo (con violencia)</td>\n",
       "      <td>1.0</td>\n",
       "      <td>Monserrat</td>\n",
       "    </tr>\n",
       "    <tr>\n",
       "      <th>117659</th>\n",
       "      <td>Robo (con violencia)</td>\n",
       "      <td>1.0</td>\n",
       "      <td>Villa Crespo</td>\n",
       "    </tr>\n",
       "    <tr>\n",
       "      <th>117660</th>\n",
       "      <td>Robo (con violencia)</td>\n",
       "      <td>1.0</td>\n",
       "      <td>Villa Lugano</td>\n",
       "    </tr>\n",
       "  </tbody>\n",
       "</table>\n",
       "<p>117661 rows × 3 columns</p>\n",
       "</div>"
      ],
      "text/plain": [
       "                  tipo_delito  cantidad_registrada            barrio\n",
       "0                    Lesiones                  1.0     Nueva Pompeya\n",
       "1        Robo (con violencia)                  1.0           Liniers\n",
       "2                    Lesiones                  1.0         Chacarita\n",
       "3       Hurto (sin violencia)                  1.0          Floresta\n",
       "4        Robo (con violencia)                  1.0  Parque Patricios\n",
       "...                       ...                  ...               ...\n",
       "117656   Robo (con violencia)                  1.0   Villa Riachuelo\n",
       "117657   Robo (con violencia)                  1.0             Boedo\n",
       "117658   Robo (con violencia)                  1.0         Monserrat\n",
       "117659   Robo (con violencia)                  1.0      Villa Crespo\n",
       "117660   Robo (con violencia)                  1.0      Villa Lugano\n",
       "\n",
       "[117661 rows x 3 columns]"
      ]
     },
     "execution_count": 7,
     "metadata": {},
     "output_type": "execute_result"
    }
   ],
   "source": [
    "seguridad2019_clean = seguridad2019.drop([\"id\",'long', 'lat', 'subtipo_delito', 'franja_horaria', 'fecha','comuna'], axis=1)\n",
    "seguridad2019_clean"
   ]
  },
  {
   "cell_type": "markdown",
   "metadata": {},
   "source": [
    "#### - Clasificacion de tipos de delitos."
   ]
  },
  {
   "cell_type": "code",
   "execution_count": 8,
   "metadata": {},
   "outputs": [
    {
     "data": {
      "text/plain": [
       "array(['Lesiones', 'Robo (con violencia)', 'Hurto (sin violencia)',\n",
       "       'Homicidio'], dtype=object)"
      ]
     },
     "execution_count": 8,
     "metadata": {},
     "output_type": "execute_result"
    }
   ],
   "source": [
    "tipos_de_delitos=seguridad2019_clean.tipo_delito.unique()\n",
    "tipos_de_delitos"
   ]
  },
  {
   "cell_type": "code",
   "execution_count": 9,
   "metadata": {},
   "outputs": [
    {
     "data": {
      "text/plain": [
       "Text(0.5, 1.0, 'Cantidad de delitos por Tipo de Delito')"
      ]
     },
     "execution_count": 9,
     "metadata": {},
     "output_type": "execute_result"
    },
    {
     "data": {
      "image/png": "[encoded data removed]",
      "text/plain": [
       "<Figure size 1368x216 with 1 Axes>"
      ]
     },
     "metadata": {
      "needs_background": "light"
     },
     "output_type": "display_data"
    }
   ],
   "source": [
    "plt.subplots(figsize=(19, 3))\n",
    "sns.countplot(y=\"tipo_delito\", data=seguridad2019, palette=\"pastel\", edgecolor=\".6\", \n",
    "  order=seguridad2019[\"tipo_delito\"]. value_counts().index)\n",
    "plt.xlabel('Cantidad de Tipo de Delito',size=14)\n",
    "plt.ylabel('Tipo de Delitos',size=14)\n",
    "plt.title('Cantidad de delitos por Tipo de Delito',size=18)\n"
   ]
  },
  {
   "cell_type": "markdown",
   "metadata": {},
   "source": [
    "#### - Voy a contar la cantidad de delitos por tipo de delito y por barrio."
   ]
  },
  {
   "cell_type": "code",
   "execution_count": 10,
   "metadata": {},
   "outputs": [],
   "source": [
    "seguridad2019_clean1 = seguridad2019_clean.groupby(['barrio','tipo_delito']).cantidad_registrada.sum().astype(int).reset_index(name='count')"
   ]
  },
  {
   "cell_type": "code",
   "execution_count": 11,
   "metadata": {},
   "outputs": [
    {
     "data": {
      "text/html": [
       "<div>\n",
       "<style scoped>\n",
       "    .dataframe tbody tr th:only-of-type {\n",
       "        vertical-align: middle;\n",
       "    }\n",
       "\n",
       "    .dataframe tbody tr th {\n",
       "        vertical-align: top;\n",
       "    }\n",
       "\n",
       "    .dataframe thead th {\n",
       "        text-align: right;\n",
       "    }\n",
       "</style>\n",
       "<table border=\"1\" class=\"dataframe\">\n",
       "  <thead>\n",
       "    <tr style=\"text-align: right;\">\n",
       "      <th></th>\n",
       "      <th>barrio</th>\n",
       "      <th>tipo_delito</th>\n",
       "      <th>count</th>\n",
       "    </tr>\n",
       "  </thead>\n",
       "  <tbody>\n",
       "    <tr>\n",
       "      <th>0</th>\n",
       "      <td>Agronomía</td>\n",
       "      <td>Homicidio</td>\n",
       "      <td>1</td>\n",
       "    </tr>\n",
       "    <tr>\n",
       "      <th>1</th>\n",
       "      <td>Agronomía</td>\n",
       "      <td>Hurto (sin violencia)</td>\n",
       "      <td>169</td>\n",
       "    </tr>\n",
       "    <tr>\n",
       "      <th>2</th>\n",
       "      <td>Agronomía</td>\n",
       "      <td>Lesiones</td>\n",
       "      <td>45</td>\n",
       "    </tr>\n",
       "    <tr>\n",
       "      <th>3</th>\n",
       "      <td>Agronomía</td>\n",
       "      <td>Robo (con violencia)</td>\n",
       "      <td>239</td>\n",
       "    </tr>\n",
       "    <tr>\n",
       "      <th>4</th>\n",
       "      <td>Almagro</td>\n",
       "      <td>Homicidio</td>\n",
       "      <td>5</td>\n",
       "    </tr>\n",
       "    <tr>\n",
       "      <th>5</th>\n",
       "      <td>Almagro</td>\n",
       "      <td>Hurto (sin violencia)</td>\n",
       "      <td>1763</td>\n",
       "    </tr>\n",
       "    <tr>\n",
       "      <th>6</th>\n",
       "      <td>Almagro</td>\n",
       "      <td>Lesiones</td>\n",
       "      <td>178</td>\n",
       "    </tr>\n",
       "    <tr>\n",
       "      <th>7</th>\n",
       "      <td>Almagro</td>\n",
       "      <td>Robo (con violencia)</td>\n",
       "      <td>2968</td>\n",
       "    </tr>\n",
       "    <tr>\n",
       "      <th>8</th>\n",
       "      <td>Balvanera</td>\n",
       "      <td>Homicidio</td>\n",
       "      <td>7</td>\n",
       "    </tr>\n",
       "    <tr>\n",
       "      <th>9</th>\n",
       "      <td>Balvanera</td>\n",
       "      <td>Hurto (sin violencia)</td>\n",
       "      <td>4062</td>\n",
       "    </tr>\n",
       "    <tr>\n",
       "      <th>10</th>\n",
       "      <td>Balvanera</td>\n",
       "      <td>Lesiones</td>\n",
       "      <td>268</td>\n",
       "    </tr>\n",
       "    <tr>\n",
       "      <th>11</th>\n",
       "      <td>Balvanera</td>\n",
       "      <td>Robo (con violencia)</td>\n",
       "      <td>4902</td>\n",
       "    </tr>\n",
       "    <tr>\n",
       "      <th>12</th>\n",
       "      <td>Barracas</td>\n",
       "      <td>Homicidio</td>\n",
       "      <td>21</td>\n",
       "    </tr>\n",
       "    <tr>\n",
       "      <th>13</th>\n",
       "      <td>Barracas</td>\n",
       "      <td>Hurto (sin violencia)</td>\n",
       "      <td>1065</td>\n",
       "    </tr>\n",
       "    <tr>\n",
       "      <th>14</th>\n",
       "      <td>Barracas</td>\n",
       "      <td>Lesiones</td>\n",
       "      <td>140</td>\n",
       "    </tr>\n",
       "  </tbody>\n",
       "</table>\n",
       "</div>"
      ],
      "text/plain": [
       "       barrio            tipo_delito  count\n",
       "0   Agronomía              Homicidio      1\n",
       "1   Agronomía  Hurto (sin violencia)    169\n",
       "2   Agronomía               Lesiones     45\n",
       "3   Agronomía   Robo (con violencia)    239\n",
       "4     Almagro              Homicidio      5\n",
       "5     Almagro  Hurto (sin violencia)   1763\n",
       "6     Almagro               Lesiones    178\n",
       "7     Almagro   Robo (con violencia)   2968\n",
       "8   Balvanera              Homicidio      7\n",
       "9   Balvanera  Hurto (sin violencia)   4062\n",
       "10  Balvanera               Lesiones    268\n",
       "11  Balvanera   Robo (con violencia)   4902\n",
       "12   Barracas              Homicidio     21\n",
       "13   Barracas  Hurto (sin violencia)   1065\n",
       "14   Barracas               Lesiones    140"
      ]
     },
     "execution_count": 11,
     "metadata": {},
     "output_type": "execute_result"
    }
   ],
   "source": [
    "seguridad2019_clean1.head(15)"
   ]
  },
  {
   "cell_type": "code",
   "execution_count": 12,
   "metadata": {},
   "outputs": [
    {
     "data": {
      "text/plain": [
       "Text(0.5, 1.0, 'Cantidad de Delitos (Top 15) por Tipo de Delito y Barrio')"
      ]
     },
     "execution_count": 12,
     "metadata": {},
     "output_type": "execute_result"
    },
    {
     "data": {
      "image/png": "[encoded data removed]",
      "text/plain": [
       "<Figure size 1440x2880 with 1 Axes>"
      ]
     },
     "metadata": {
      "needs_background": "light"
     },
     "output_type": "display_data"
    }
   ],
   "source": [
    "plt.subplots(figsize=(20, 40))\n",
    "plt.subplot(4,1,2)\n",
    "sns.countplot(y=\"barrio\", data=seguridad2019, hue=\"tipo_delito\",\n",
    "              order=seguridad2019.barrio.value_counts().iloc[:15].index,palette=\"pastel\", edgecolor=\".6\")\n",
    "plt.xlabel('Cantidad de Delitos',size=14)\n",
    "plt.ylabel('Barrio',size=14)\n",
    "plt.title(\"Cantidad de Delitos (Top 15) por Tipo de Delito y Barrio\" ,size=18)"
   ]
  },
  {
   "cell_type": "markdown",
   "metadata": {},
   "source": [
    "#### - Sirve para darse una idea en cuanto a la proporcion de los tipos de delito por barrio; por ejemplo, si hay un % mayor de robos sin violencia en relacion con robos con violencia y lesiones; pero no es representativo en el panorama total, ya que habria que verlo en relacion al % de habitantes por Barrio, incluso en relacion tambien con el grado de circulacion de personas. Por ejemplo, Retiro tiene un altisimo porcentaje de circulacion durante el dia, pero no muchos habitantes residentes.\n"
   ]
  },
  {
   "cell_type": "markdown",
   "metadata": {},
   "source": [
    "#### - Cambiamos la columna \"barrio\" por \"l3\" para que coincida el nombre con la columna del df new_properati_Capital1_All_sin_bedrooms_clean (df que viene del proyecto2 y que en breve cargaremos)."
   ]
  },
  {
   "cell_type": "code",
   "execution_count": 13,
   "metadata": {},
   "outputs": [
    {
     "data": {
      "text/html": [
       "<div>\n",
       "<style scoped>\n",
       "    .dataframe tbody tr th:only-of-type {\n",
       "        vertical-align: middle;\n",
       "    }\n",
       "\n",
       "    .dataframe tbody tr th {\n",
       "        vertical-align: top;\n",
       "    }\n",
       "\n",
       "    .dataframe thead th {\n",
       "        text-align: right;\n",
       "    }\n",
       "</style>\n",
       "<table border=\"1\" class=\"dataframe\">\n",
       "  <thead>\n",
       "    <tr style=\"text-align: right;\">\n",
       "      <th></th>\n",
       "      <th>l3</th>\n",
       "      <th>tipo_delito</th>\n",
       "      <th>count</th>\n",
       "    </tr>\n",
       "  </thead>\n",
       "  <tbody>\n",
       "    <tr>\n",
       "      <th>0</th>\n",
       "      <td>Agronomía</td>\n",
       "      <td>Homicidio</td>\n",
       "      <td>1</td>\n",
       "    </tr>\n",
       "    <tr>\n",
       "      <th>1</th>\n",
       "      <td>Agronomía</td>\n",
       "      <td>Hurto (sin violencia)</td>\n",
       "      <td>169</td>\n",
       "    </tr>\n",
       "    <tr>\n",
       "      <th>2</th>\n",
       "      <td>Agronomía</td>\n",
       "      <td>Lesiones</td>\n",
       "      <td>45</td>\n",
       "    </tr>\n",
       "    <tr>\n",
       "      <th>3</th>\n",
       "      <td>Agronomía</td>\n",
       "      <td>Robo (con violencia)</td>\n",
       "      <td>239</td>\n",
       "    </tr>\n",
       "    <tr>\n",
       "      <th>4</th>\n",
       "      <td>Almagro</td>\n",
       "      <td>Homicidio</td>\n",
       "      <td>5</td>\n",
       "    </tr>\n",
       "    <tr>\n",
       "      <th>...</th>\n",
       "      <td>...</td>\n",
       "      <td>...</td>\n",
       "      <td>...</td>\n",
       "    </tr>\n",
       "    <tr>\n",
       "      <th>182</th>\n",
       "      <td>Villa del Parque</td>\n",
       "      <td>Robo (con violencia)</td>\n",
       "      <td>666</td>\n",
       "    </tr>\n",
       "    <tr>\n",
       "      <th>183</th>\n",
       "      <td>Vélez Sársfield</td>\n",
       "      <td>Homicidio</td>\n",
       "      <td>1</td>\n",
       "    </tr>\n",
       "    <tr>\n",
       "      <th>184</th>\n",
       "      <td>Vélez Sársfield</td>\n",
       "      <td>Hurto (sin violencia)</td>\n",
       "      <td>457</td>\n",
       "    </tr>\n",
       "    <tr>\n",
       "      <th>185</th>\n",
       "      <td>Vélez Sársfield</td>\n",
       "      <td>Lesiones</td>\n",
       "      <td>57</td>\n",
       "    </tr>\n",
       "    <tr>\n",
       "      <th>186</th>\n",
       "      <td>Vélez Sársfield</td>\n",
       "      <td>Robo (con violencia)</td>\n",
       "      <td>488</td>\n",
       "    </tr>\n",
       "  </tbody>\n",
       "</table>\n",
       "<p>187 rows × 3 columns</p>\n",
       "</div>"
      ],
      "text/plain": [
       "                   l3            tipo_delito  count\n",
       "0           Agronomía              Homicidio      1\n",
       "1           Agronomía  Hurto (sin violencia)    169\n",
       "2           Agronomía               Lesiones     45\n",
       "3           Agronomía   Robo (con violencia)    239\n",
       "4             Almagro              Homicidio      5\n",
       "..                ...                    ...    ...\n",
       "182  Villa del Parque   Robo (con violencia)    666\n",
       "183   Vélez Sársfield              Homicidio      1\n",
       "184   Vélez Sársfield  Hurto (sin violencia)    457\n",
       "185   Vélez Sársfield               Lesiones     57\n",
       "186   Vélez Sársfield   Robo (con violencia)    488\n",
       "\n",
       "[187 rows x 3 columns]"
      ]
     },
     "execution_count": 13,
     "metadata": {},
     "output_type": "execute_result"
    }
   ],
   "source": [
    "seguridad2019_clean1 = seguridad2019_clean1.rename(columns={'barrio':'l3'})\n",
    "seguridad2019_clean1"
   ]
  },
  {
   "cell_type": "markdown",
   "metadata": {},
   "source": [
    "### 2.2 - Unificacion de dataset"
   ]
  },
  {
   "cell_type": "markdown",
   "metadata": {},
   "source": [
    "### - Vamos a cargar el  dataset new_properati_Capital1_All_sin_bedrooms_clean.csv que viene del Proyecto2:\n",
    "\n",
    "> #### - new_properati_Capital1_All_sin_bedrooms_clean: Es un df que tiene todo el EDA realizado pero no tiene el OneHotEncoder en sus variables categoricas, ni la normalizacion. Es el df base que utilice para comenzar a probar distintos modelos en el proyecto2. Tiene toda la limpieza realizada, sin outliers. El detalle para ver como se llega a este df esta en https://github.com/cunimachine/Acamica-Proyecto2_Properati.git\n"
   ]
  },
  {
   "cell_type": "code",
   "execution_count": 14,
   "metadata": {},
   "outputs": [],
   "source": [
    "new_properati_Capital1_All_sin_bedrooms_clean= pd.read_csv(\"/Users/Gerardo Masucci/Acamica/Proyecto 4/Dataset/new_properati_Capital1_All_sin_bedrooms_clean.csv\")"
   ]
  },
  {
   "cell_type": "code",
   "execution_count": 15,
   "metadata": {},
   "outputs": [
    {
     "data": {
      "text/html": [
       "<div>\n",
       "<style scoped>\n",
       "    .dataframe tbody tr th:only-of-type {\n",
       "        vertical-align: middle;\n",
       "    }\n",
       "\n",
       "    .dataframe tbody tr th {\n",
       "        vertical-align: top;\n",
       "    }\n",
       "\n",
       "    .dataframe thead th {\n",
       "        text-align: right;\n",
       "    }\n",
       "</style>\n",
       "<table border=\"1\" class=\"dataframe\">\n",
       "  <thead>\n",
       "    <tr style=\"text-align: right;\">\n",
       "      <th></th>\n",
       "      <th>Unnamed: 0</th>\n",
       "      <th>l3</th>\n",
       "      <th>rooms</th>\n",
       "      <th>bedrooms</th>\n",
       "      <th>bathrooms</th>\n",
       "      <th>surface_total</th>\n",
       "      <th>surface_covered</th>\n",
       "      <th>price</th>\n",
       "      <th>property_type</th>\n",
       "    </tr>\n",
       "  </thead>\n",
       "  <tbody>\n",
       "    <tr>\n",
       "      <th>0</th>\n",
       "      <td>0</td>\n",
       "      <td>San Cristobal</td>\n",
       "      <td>7.0</td>\n",
       "      <td>7.0</td>\n",
       "      <td>2.0</td>\n",
       "      <td>140.0</td>\n",
       "      <td>140.0</td>\n",
       "      <td>153000.0</td>\n",
       "      <td>Departamento</td>\n",
       "    </tr>\n",
       "    <tr>\n",
       "      <th>1</th>\n",
       "      <td>1</td>\n",
       "      <td>Boedo</td>\n",
       "      <td>2.0</td>\n",
       "      <td>1.0</td>\n",
       "      <td>2.0</td>\n",
       "      <td>70.0</td>\n",
       "      <td>58.0</td>\n",
       "      <td>159000.0</td>\n",
       "      <td>PH</td>\n",
       "    </tr>\n",
       "    <tr>\n",
       "      <th>2</th>\n",
       "      <td>2</td>\n",
       "      <td>Palermo</td>\n",
       "      <td>2.0</td>\n",
       "      <td>1.0</td>\n",
       "      <td>1.0</td>\n",
       "      <td>45.0</td>\n",
       "      <td>45.0</td>\n",
       "      <td>125000.0</td>\n",
       "      <td>PH</td>\n",
       "    </tr>\n",
       "  </tbody>\n",
       "</table>\n",
       "</div>"
      ],
      "text/plain": [
       "   Unnamed: 0             l3  rooms  bedrooms  bathrooms  surface_total  \\\n",
       "0           0  San Cristobal    7.0       7.0        2.0          140.0   \n",
       "1           1          Boedo    2.0       1.0        2.0           70.0   \n",
       "2           2        Palermo    2.0       1.0        1.0           45.0   \n",
       "\n",
       "   surface_covered     price property_type  \n",
       "0            140.0  153000.0  Departamento  \n",
       "1             58.0  159000.0            PH  \n",
       "2             45.0  125000.0            PH  "
      ]
     },
     "execution_count": 15,
     "metadata": {},
     "output_type": "execute_result"
    }
   ],
   "source": [
    "new_properati_Capital1_All_sin_bedrooms_clean.head(3)"
   ]
  },
  {
   "cell_type": "markdown",
   "metadata": {},
   "source": [
    "#### - Unificamos los barrios de los 2 df (seguridad2019 y new_properati_Capital1_All_sin_bedrooms_clean)."
   ]
  },
  {
   "cell_type": "markdown",
   "metadata": {},
   "source": [
    "#### - Veamos como estan nombrados los barrios en los dos df. Necesitamos verificar si estan escritos igual (tildes, mayusculas) y tambien chequear si falta alguno."
   ]
  },
  {
   "cell_type": "code",
   "execution_count": 16,
   "metadata": {},
   "outputs": [
    {
     "data": {
      "text/plain": [
       "array(['Nueva Pompeya', 'Liniers', 'Chacarita', 'Floresta',\n",
       "       'Parque Patricios', 'Boca', 'Villa Pueyrredón', 'Barracas',\n",
       "       'Almagro', 'Palermo', 'Parque Avellaneda', 'Parque Chacabuco',\n",
       "       'Villa Devoto', 'San Cristóbal', 'Villa Lugano', 'Retiro',\n",
       "       'Mataderos', 'Villa Crespo', 'Balvanera', 'Recoleta',\n",
       "       'Villa Soldati', 'Constitución', 'Villa Urquiza', 'Flores',\n",
       "       'San Telmo', 'Caballito', 'Nuñez', 'Villa Luro', 'Belgrano',\n",
       "       'Saavedra', 'Puerto Madero', 'Villa Ortuzar', 'San Nicolás',\n",
       "       'Boedo', 'Monserrat', 'Colegiales', 'Villa del Parque', 'Coghlan',\n",
       "       'Villa Santa Rita', nan, 'Monte Castro', 'Villa Riachuelo',\n",
       "       'Villa Gral. Mitre', 'Paternal', 'Agronomía', 'Vélez Sársfield',\n",
       "       'Parque Chas', 'Villa Real', 'Versalles'], dtype=object)"
      ]
     },
     "metadata": {},
     "output_type": "display_data"
    },
    {
     "data": {
      "text/plain": [
       "(49,)"
      ]
     },
     "execution_count": 16,
     "metadata": {},
     "output_type": "execute_result"
    }
   ],
   "source": [
    "barrios1=seguridad2019_clean.barrio.unique()\n",
    "display(barrios1)\n",
    "barrios1.shape"
   ]
  },
  {
   "cell_type": "code",
   "execution_count": 17,
   "metadata": {},
   "outputs": [
    {
     "data": {
      "text/plain": [
       "array(['San Cristobal', 'Boedo', 'Palermo', 'Villa Crespo',\n",
       "       'Villa Pueyrredón', 'Flores', 'Nuñez', 'Almagro', 'Belgrano',\n",
       "       'Caballito', 'Colegiales', 'Villa Luro', 'Barrio Norte',\n",
       "       'Las Cañitas', 'Villa Urquiza', 'Recoleta', 'Chacarita',\n",
       "       'Parque Centenario', 'Boca', 'Once', 'Retiro', 'Monserrat',\n",
       "       'San Telmo', 'Villa Ortuzar', 'Parque Chacabuco',\n",
       "       'Centro / Microcentro', 'Abasto', 'Liniers', 'Floresta',\n",
       "       'Balvanera', 'San Nicolás', 'Coghlan', 'Saavedra', 'Puerto Madero',\n",
       "       'Barracas', 'Paternal', 'Mataderos', 'Villa Devoto', 'Congreso',\n",
       "       'Constitución', 'Villa Santa Rita', 'Agronomía',\n",
       "       'Parque Avellaneda', 'Tribunales', 'Parque Chas',\n",
       "       'Velez Sarsfield', 'Villa del Parque', 'Parque Patricios',\n",
       "       'Villa Real', 'Versalles', 'Villa Lugano', 'Villa General Mitre',\n",
       "       'Monte Castro', 'Pompeya', 'Villa Riachuelo', 'Villa Soldati',\n",
       "       'Catalinas'], dtype=object)"
      ]
     },
     "metadata": {},
     "output_type": "display_data"
    },
    {
     "data": {
      "text/plain": [
       "(57,)"
      ]
     },
     "execution_count": 17,
     "metadata": {},
     "output_type": "execute_result"
    }
   ],
   "source": [
    "barrios2=new_properati_Capital1_All_sin_bedrooms_clean.l3.unique()\n",
    "display(barrios2)\n",
    "barrios2.shape"
   ]
  },
  {
   "cell_type": "markdown",
   "metadata": {},
   "source": [
    "#### - Como vemos la cantidad de barrios de Capital Federal en el df de los delitos y en el df de las publicaciones de properati, son distintos.\n",
    "\n",
    "> - En el df de delitos son 49 y en el df de properati son 57. Esto sucede porque en el df de properati hay nombres de barrios que son utilizados __\"culturalmente\"__ pero que __\"legalmente\"__ se llaman distinto. Tengamos en cuenta que el df de delitos es de la Ciudad de BsAs y no puede tener nombres coloquiales.\n",
    "\n",
    "#### - Las correcciones que tendremos que realizar antes de unificar los dos df seran las siguientes:\n",
    "\n",
    "> - Reemplazar Abasto por Almagro; Barrio Norte por Recoleta; Congreso por Balvanera; Once por Retiro; Pompeya por Nueva Pompeya; Tribunales por San Nicolas; Villa General Mitre por Villa Gral Mitre; Catalinas por Retiro; Centro/Microcentro por Retiro; Las Cañitas por Recoleta; Parque Centenario por Almagro."
   ]
  },
  {
   "cell_type": "code",
   "execution_count": 18,
   "metadata": {},
   "outputs": [],
   "source": [
    "new_properati_Capital1_All_sin_bedrooms_clean_l3=pd.DataFrame(new_properati_Capital1_All_sin_bedrooms_clean)\n",
    "new_properati_Capital1_All_sin_bedrooms_clean_l3.replace({\"Abasto\":\"Almagro\", \"Barrio Norte\":\"Recoleta\", \n",
    "                                                             \"Congreso\": \"Balvanera\",\"Once\": \"Retiro\", \"Pompeya\": \"Nueva Pompeya\",\n",
    "                                                             \"Tribunales\" : \"San Nicolas\", \"Villa General Mitre\" : \"Villa Gral Mitre\",\n",
    "                                                             \"Catalinas\" : \"Retiro\", \"Centro/Microcentro\" : \"Retiro\",\n",
    "                                                             \"Las Cañitas\" : \"Recoleta\", \"Parque Centenario\" : \"Almagro\"},inplace=True)"
   ]
  },
  {
   "cell_type": "code",
   "execution_count": 19,
   "metadata": {},
   "outputs": [
    {
     "data": {
      "text/plain": [
       "array(['San Cristobal', 'Boedo', 'Palermo', 'Villa Crespo',\n",
       "       'Villa Pueyrredón', 'Flores', 'Nuñez', 'Almagro', 'Belgrano',\n",
       "       'Caballito', 'Colegiales', 'Villa Luro', 'Recoleta',\n",
       "       'Villa Urquiza', 'Chacarita', 'Boca', 'Retiro', 'Monserrat',\n",
       "       'San Telmo', 'Villa Ortuzar', 'Parque Chacabuco',\n",
       "       'Centro / Microcentro', 'Liniers', 'Floresta', 'Balvanera',\n",
       "       'San Nicolás', 'Coghlan', 'Saavedra', 'Puerto Madero', 'Barracas',\n",
       "       'Paternal', 'Mataderos', 'Villa Devoto', 'Constitución',\n",
       "       'Villa Santa Rita', 'Agronomía', 'Parque Avellaneda',\n",
       "       'San Nicolas', 'Parque Chas', 'Velez Sarsfield',\n",
       "       'Villa del Parque', 'Parque Patricios', 'Villa Real', 'Versalles',\n",
       "       'Villa Lugano', 'Villa Gral Mitre', 'Monte Castro',\n",
       "       'Nueva Pompeya', 'Villa Riachuelo', 'Villa Soldati'], dtype=object)"
      ]
     },
     "execution_count": 19,
     "metadata": {},
     "output_type": "execute_result"
    }
   ],
   "source": [
    "barrios3=new_properati_Capital1_All_sin_bedrooms_clean_l3.l3.unique()\n",
    "barrios3"
   ]
  },
  {
   "cell_type": "code",
   "execution_count": 20,
   "metadata": {},
   "outputs": [
    {
     "data": {
      "text/plain": [
       "(50,)"
      ]
     },
     "execution_count": 20,
     "metadata": {},
     "output_type": "execute_result"
    }
   ],
   "source": [
    "barrios3.shape"
   ]
  },
  {
   "cell_type": "markdown",
   "metadata": {},
   "source": [
    "#### - Es correcto; antes teniamos 57 nombres y ahora tenemos 50. Fueron 7 los nombres modificados. Hay 5 barrios que fueron reemplazados por 2 nombres (Retiro y Recoleta). Por ejemplo Catalinas y Barrio Norte fueron reemplazados por Retiro."
   ]
  },
  {
   "cell_type": "markdown",
   "metadata": {},
   "source": [
    "#### - Ahora vamos a unir los dos df. Al df new_properati_Capital1_All_sin_bedrooms_clean_l3 le vamos a agregar las columnas \"tipo_delito\" y \"count\" del df seguridad2019_clean1."
   ]
  },
  {
   "cell_type": "code",
   "execution_count": 21,
   "metadata": {},
   "outputs": [],
   "source": [
    "new_properati_Capital1_All_sin_bedrooms_clean_l3_security=pd.merge(new_properati_Capital1_All_sin_bedrooms_clean_l3,seguridad2019_clean1)"
   ]
  },
  {
   "cell_type": "code",
   "execution_count": 22,
   "metadata": {},
   "outputs": [
    {
     "data": {
      "text/html": [
       "<div>\n",
       "<style scoped>\n",
       "    .dataframe tbody tr th:only-of-type {\n",
       "        vertical-align: middle;\n",
       "    }\n",
       "\n",
       "    .dataframe tbody tr th {\n",
       "        vertical-align: top;\n",
       "    }\n",
       "\n",
       "    .dataframe thead th {\n",
       "        text-align: right;\n",
       "    }\n",
       "</style>\n",
       "<table border=\"1\" class=\"dataframe\">\n",
       "  <thead>\n",
       "    <tr style=\"text-align: right;\">\n",
       "      <th></th>\n",
       "      <th>Unnamed: 0</th>\n",
       "      <th>l3</th>\n",
       "      <th>rooms</th>\n",
       "      <th>bedrooms</th>\n",
       "      <th>bathrooms</th>\n",
       "      <th>surface_total</th>\n",
       "      <th>surface_covered</th>\n",
       "      <th>price</th>\n",
       "      <th>property_type</th>\n",
       "      <th>tipo_delito</th>\n",
       "      <th>count</th>\n",
       "    </tr>\n",
       "  </thead>\n",
       "  <tbody>\n",
       "    <tr>\n",
       "      <th>0</th>\n",
       "      <td>1</td>\n",
       "      <td>Boedo</td>\n",
       "      <td>2.0</td>\n",
       "      <td>1.0</td>\n",
       "      <td>2.0</td>\n",
       "      <td>70.0</td>\n",
       "      <td>58.0</td>\n",
       "      <td>159000.0</td>\n",
       "      <td>PH</td>\n",
       "      <td>Homicidio</td>\n",
       "      <td>2</td>\n",
       "    </tr>\n",
       "    <tr>\n",
       "      <th>1</th>\n",
       "      <td>1</td>\n",
       "      <td>Boedo</td>\n",
       "      <td>2.0</td>\n",
       "      <td>1.0</td>\n",
       "      <td>2.0</td>\n",
       "      <td>70.0</td>\n",
       "      <td>58.0</td>\n",
       "      <td>159000.0</td>\n",
       "      <td>PH</td>\n",
       "      <td>Hurto (sin violencia)</td>\n",
       "      <td>710</td>\n",
       "    </tr>\n",
       "    <tr>\n",
       "      <th>2</th>\n",
       "      <td>1</td>\n",
       "      <td>Boedo</td>\n",
       "      <td>2.0</td>\n",
       "      <td>1.0</td>\n",
       "      <td>2.0</td>\n",
       "      <td>70.0</td>\n",
       "      <td>58.0</td>\n",
       "      <td>159000.0</td>\n",
       "      <td>PH</td>\n",
       "      <td>Lesiones</td>\n",
       "      <td>90</td>\n",
       "    </tr>\n",
       "    <tr>\n",
       "      <th>3</th>\n",
       "      <td>1</td>\n",
       "      <td>Boedo</td>\n",
       "      <td>2.0</td>\n",
       "      <td>1.0</td>\n",
       "      <td>2.0</td>\n",
       "      <td>70.0</td>\n",
       "      <td>58.0</td>\n",
       "      <td>159000.0</td>\n",
       "      <td>PH</td>\n",
       "      <td>Robo (con violencia)</td>\n",
       "      <td>1004</td>\n",
       "    </tr>\n",
       "    <tr>\n",
       "      <th>4</th>\n",
       "      <td>11</td>\n",
       "      <td>Boedo</td>\n",
       "      <td>2.0</td>\n",
       "      <td>1.0</td>\n",
       "      <td>1.0</td>\n",
       "      <td>68.0</td>\n",
       "      <td>59.0</td>\n",
       "      <td>149000.0</td>\n",
       "      <td>Departamento</td>\n",
       "      <td>Homicidio</td>\n",
       "      <td>2</td>\n",
       "    </tr>\n",
       "  </tbody>\n",
       "</table>\n",
       "</div>"
      ],
      "text/plain": [
       "   Unnamed: 0     l3  rooms  bedrooms  bathrooms  surface_total  \\\n",
       "0           1  Boedo    2.0       1.0        2.0           70.0   \n",
       "1           1  Boedo    2.0       1.0        2.0           70.0   \n",
       "2           1  Boedo    2.0       1.0        2.0           70.0   \n",
       "3           1  Boedo    2.0       1.0        2.0           70.0   \n",
       "4          11  Boedo    2.0       1.0        1.0           68.0   \n",
       "\n",
       "   surface_covered     price property_type            tipo_delito  count  \n",
       "0             58.0  159000.0            PH              Homicidio      2  \n",
       "1             58.0  159000.0            PH  Hurto (sin violencia)    710  \n",
       "2             58.0  159000.0            PH               Lesiones     90  \n",
       "3             58.0  159000.0            PH   Robo (con violencia)   1004  \n",
       "4             59.0  149000.0  Departamento              Homicidio      2  "
      ]
     },
     "execution_count": 22,
     "metadata": {},
     "output_type": "execute_result"
    }
   ],
   "source": [
    "new_properati_Capital1_All_sin_bedrooms_clean_l3_security.head()"
   ]
  },
  {
   "cell_type": "code",
   "execution_count": 23,
   "metadata": {},
   "outputs": [
    {
     "data": {
      "text/html": [
       "<div>\n",
       "<style scoped>\n",
       "    .dataframe tbody tr th:only-of-type {\n",
       "        vertical-align: middle;\n",
       "    }\n",
       "\n",
       "    .dataframe tbody tr th {\n",
       "        vertical-align: top;\n",
       "    }\n",
       "\n",
       "    .dataframe thead th {\n",
       "        text-align: right;\n",
       "    }\n",
       "</style>\n",
       "<table border=\"1\" class=\"dataframe\">\n",
       "  <thead>\n",
       "    <tr style=\"text-align: right;\">\n",
       "      <th></th>\n",
       "      <th>l3</th>\n",
       "      <th>rooms</th>\n",
       "      <th>bedrooms</th>\n",
       "      <th>bathrooms</th>\n",
       "      <th>surface_total</th>\n",
       "      <th>surface_covered</th>\n",
       "      <th>price</th>\n",
       "      <th>property_type</th>\n",
       "      <th>tipo_delito</th>\n",
       "      <th>count</th>\n",
       "    </tr>\n",
       "  </thead>\n",
       "  <tbody>\n",
       "    <tr>\n",
       "      <th>0</th>\n",
       "      <td>Boedo</td>\n",
       "      <td>2.0</td>\n",
       "      <td>1.0</td>\n",
       "      <td>2.0</td>\n",
       "      <td>70.0</td>\n",
       "      <td>58.0</td>\n",
       "      <td>159000.0</td>\n",
       "      <td>PH</td>\n",
       "      <td>Homicidio</td>\n",
       "      <td>2</td>\n",
       "    </tr>\n",
       "    <tr>\n",
       "      <th>1</th>\n",
       "      <td>Boedo</td>\n",
       "      <td>2.0</td>\n",
       "      <td>1.0</td>\n",
       "      <td>2.0</td>\n",
       "      <td>70.0</td>\n",
       "      <td>58.0</td>\n",
       "      <td>159000.0</td>\n",
       "      <td>PH</td>\n",
       "      <td>Hurto (sin violencia)</td>\n",
       "      <td>710</td>\n",
       "    </tr>\n",
       "    <tr>\n",
       "      <th>2</th>\n",
       "      <td>Boedo</td>\n",
       "      <td>2.0</td>\n",
       "      <td>1.0</td>\n",
       "      <td>2.0</td>\n",
       "      <td>70.0</td>\n",
       "      <td>58.0</td>\n",
       "      <td>159000.0</td>\n",
       "      <td>PH</td>\n",
       "      <td>Lesiones</td>\n",
       "      <td>90</td>\n",
       "    </tr>\n",
       "    <tr>\n",
       "      <th>3</th>\n",
       "      <td>Boedo</td>\n",
       "      <td>2.0</td>\n",
       "      <td>1.0</td>\n",
       "      <td>2.0</td>\n",
       "      <td>70.0</td>\n",
       "      <td>58.0</td>\n",
       "      <td>159000.0</td>\n",
       "      <td>PH</td>\n",
       "      <td>Robo (con violencia)</td>\n",
       "      <td>1004</td>\n",
       "    </tr>\n",
       "    <tr>\n",
       "      <th>4</th>\n",
       "      <td>Boedo</td>\n",
       "      <td>2.0</td>\n",
       "      <td>1.0</td>\n",
       "      <td>1.0</td>\n",
       "      <td>68.0</td>\n",
       "      <td>59.0</td>\n",
       "      <td>149000.0</td>\n",
       "      <td>Departamento</td>\n",
       "      <td>Homicidio</td>\n",
       "      <td>2</td>\n",
       "    </tr>\n",
       "  </tbody>\n",
       "</table>\n",
       "</div>"
      ],
      "text/plain": [
       "      l3  rooms  bedrooms  bathrooms  surface_total  surface_covered  \\\n",
       "0  Boedo    2.0       1.0        2.0           70.0             58.0   \n",
       "1  Boedo    2.0       1.0        2.0           70.0             58.0   \n",
       "2  Boedo    2.0       1.0        2.0           70.0             58.0   \n",
       "3  Boedo    2.0       1.0        2.0           70.0             58.0   \n",
       "4  Boedo    2.0       1.0        1.0           68.0             59.0   \n",
       "\n",
       "      price property_type            tipo_delito  count  \n",
       "0  159000.0            PH              Homicidio      2  \n",
       "1  159000.0            PH  Hurto (sin violencia)    710  \n",
       "2  159000.0            PH               Lesiones     90  \n",
       "3  159000.0            PH   Robo (con violencia)   1004  \n",
       "4  149000.0  Departamento              Homicidio      2  "
      ]
     },
     "execution_count": 23,
     "metadata": {},
     "output_type": "execute_result"
    }
   ],
   "source": [
    "new_properati_Capital1_All_sin_bedrooms_clean_l3_security=new_properati_Capital1_All_sin_bedrooms_clean_l3_security.drop([\"Unnamed: 0\"], axis=1)\n",
    "new_properati_Capital1_All_sin_bedrooms_clean_l3_security.head()"
   ]
  },
  {
   "cell_type": "code",
   "execution_count": 24,
   "metadata": {},
   "outputs": [
    {
     "data": {
      "text/plain": [
       "Index(['l3', 'rooms', 'bedrooms', 'bathrooms', 'surface_total',\n",
       "       'surface_covered', 'price', 'property_type', 'tipo_delito', 'count'],\n",
       "      dtype='object')"
      ]
     },
     "execution_count": 24,
     "metadata": {},
     "output_type": "execute_result"
    }
   ],
   "source": [
    "new_properati_Capital1_All_sin_bedrooms_clean_l3_security.columns"
   ]
  },
  {
   "cell_type": "code",
   "execution_count": 25,
   "metadata": {},
   "outputs": [
    {
     "data": {
      "text/plain": [
       "(187, 3)"
      ]
     },
     "metadata": {},
     "output_type": "display_data"
    },
    {
     "data": {
      "text/plain": [
       "(50112, 9)"
      ]
     },
     "metadata": {},
     "output_type": "display_data"
    },
    {
     "data": {
      "text/plain": [
       "(194929, 10)"
      ]
     },
     "execution_count": 25,
     "metadata": {},
     "output_type": "execute_result"
    }
   ],
   "source": [
    "display(seguridad2019_clean1.shape)\n",
    "display(new_properati_Capital1_All_sin_bedrooms_clean_l3.shape)\n",
    "new_properati_Capital1_All_sin_bedrooms_clean_l3_security.shape"
   ]
  },
  {
   "cell_type": "markdown",
   "metadata": {},
   "source": [
    "#### - Ahora si me interesa ver la correlacion con los nuevos atributos incluidos."
   ]
  },
  {
   "cell_type": "code",
   "execution_count": 26,
   "metadata": {},
   "outputs": [
    {
     "data": {
      "text/html": [
       "<div>\n",
       "<style scoped>\n",
       "    .dataframe tbody tr th:only-of-type {\n",
       "        vertical-align: middle;\n",
       "    }\n",
       "\n",
       "    .dataframe tbody tr th {\n",
       "        vertical-align: top;\n",
       "    }\n",
       "\n",
       "    .dataframe thead th {\n",
       "        text-align: right;\n",
       "    }\n",
       "</style>\n",
       "<table border=\"1\" class=\"dataframe\">\n",
       "  <thead>\n",
       "    <tr style=\"text-align: right;\">\n",
       "      <th></th>\n",
       "      <th>rooms</th>\n",
       "      <th>bedrooms</th>\n",
       "      <th>bathrooms</th>\n",
       "      <th>surface_total</th>\n",
       "      <th>surface_covered</th>\n",
       "      <th>price</th>\n",
       "      <th>count</th>\n",
       "    </tr>\n",
       "  </thead>\n",
       "  <tbody>\n",
       "    <tr>\n",
       "      <th>rooms</th>\n",
       "      <td>1.000000</td>\n",
       "      <td>0.942286</td>\n",
       "      <td>0.455395</td>\n",
       "      <td>0.666393</td>\n",
       "      <td>0.739731</td>\n",
       "      <td>0.432883</td>\n",
       "      <td>0.006003</td>\n",
       "    </tr>\n",
       "    <tr>\n",
       "      <th>bedrooms</th>\n",
       "      <td>0.942286</td>\n",
       "      <td>1.000000</td>\n",
       "      <td>0.455758</td>\n",
       "      <td>0.645674</td>\n",
       "      <td>0.725732</td>\n",
       "      <td>0.414541</td>\n",
       "      <td>0.005355</td>\n",
       "    </tr>\n",
       "    <tr>\n",
       "      <th>bathrooms</th>\n",
       "      <td>0.455395</td>\n",
       "      <td>0.455758</td>\n",
       "      <td>1.000000</td>\n",
       "      <td>0.519984</td>\n",
       "      <td>0.572683</td>\n",
       "      <td>0.554011</td>\n",
       "      <td>0.014937</td>\n",
       "    </tr>\n",
       "    <tr>\n",
       "      <th>surface_total</th>\n",
       "      <td>0.666393</td>\n",
       "      <td>0.645674</td>\n",
       "      <td>0.519984</td>\n",
       "      <td>1.000000</td>\n",
       "      <td>0.886575</td>\n",
       "      <td>0.626244</td>\n",
       "      <td>-0.018171</td>\n",
       "    </tr>\n",
       "    <tr>\n",
       "      <th>surface_covered</th>\n",
       "      <td>0.739731</td>\n",
       "      <td>0.725732</td>\n",
       "      <td>0.572683</td>\n",
       "      <td>0.886575</td>\n",
       "      <td>1.000000</td>\n",
       "      <td>0.665295</td>\n",
       "      <td>0.009550</td>\n",
       "    </tr>\n",
       "    <tr>\n",
       "      <th>price</th>\n",
       "      <td>0.432883</td>\n",
       "      <td>0.414541</td>\n",
       "      <td>0.554011</td>\n",
       "      <td>0.626244</td>\n",
       "      <td>0.665295</td>\n",
       "      <td>1.000000</td>\n",
       "      <td>0.062305</td>\n",
       "    </tr>\n",
       "    <tr>\n",
       "      <th>count</th>\n",
       "      <td>0.006003</td>\n",
       "      <td>0.005355</td>\n",
       "      <td>0.014937</td>\n",
       "      <td>-0.018171</td>\n",
       "      <td>0.009550</td>\n",
       "      <td>0.062305</td>\n",
       "      <td>1.000000</td>\n",
       "    </tr>\n",
       "  </tbody>\n",
       "</table>\n",
       "</div>"
      ],
      "text/plain": [
       "                    rooms  bedrooms  bathrooms  surface_total  \\\n",
       "rooms            1.000000  0.942286   0.455395       0.666393   \n",
       "bedrooms         0.942286  1.000000   0.455758       0.645674   \n",
       "bathrooms        0.455395  0.455758   1.000000       0.519984   \n",
       "surface_total    0.666393  0.645674   0.519984       1.000000   \n",
       "surface_covered  0.739731  0.725732   0.572683       0.886575   \n",
       "price            0.432883  0.414541   0.554011       0.626244   \n",
       "count            0.006003  0.005355   0.014937      -0.018171   \n",
       "\n",
       "                 surface_covered     price     count  \n",
       "rooms                   0.739731  0.432883  0.006003  \n",
       "bedrooms                0.725732  0.414541  0.005355  \n",
       "bathrooms               0.572683  0.554011  0.014937  \n",
       "surface_total           0.886575  0.626244 -0.018171  \n",
       "surface_covered         1.000000  0.665295  0.009550  \n",
       "price                   0.665295  1.000000  0.062305  \n",
       "count                   0.009550  0.062305  1.000000  "
      ]
     },
     "execution_count": 26,
     "metadata": {},
     "output_type": "execute_result"
    }
   ],
   "source": [
    "new_properati_Capital1_All_sin_bedrooms_clean_l3_security.corr()"
   ]
  },
  {
   "cell_type": "code",
   "execution_count": 27,
   "metadata": {},
   "outputs": [
    {
     "data": {
      "text/plain": [
       "Text(0.5, 1, 'new_properati_Capital1_All_sin_bedrooms_clean_l3_security')"
      ]
     },
     "execution_count": 27,
     "metadata": {},
     "output_type": "execute_result"
    },
    {
     "data": {
      "image/png": "[encoded data removed]",
      "text/plain": [
       "<Figure size 1440x360 with 2 Axes>"
      ]
     },
     "metadata": {
      "needs_background": "light"
     },
     "output_type": "display_data"
    }
   ],
   "source": [
    "plt.subplots(figsize=(20,5))\n",
    "\n",
    "sns.heatmap(new_properati_Capital1_All_sin_bedrooms_clean_l3_security[[\"surface_total\",\"surface_covered\",\"count\", \"bathrooms\",\"price\",\"rooms\",\"bedrooms\"]].corr())\n",
    "plt.ylabel(\"Atributos\",size=14)\n",
    "plt.xlabel(\"Atributos\",size=14)\n",
    "plt.title(\"new_properati_Capital1_All_sin_bedrooms_clean_l3_security\" ,size=18)"
   ]
  },
  {
   "cell_type": "markdown",
   "metadata": {},
   "source": [
    "#### - Se mantienen las correlaciones ya vistas en el proyecto 2 pero \"count\" no tiene ninguna correlacion con las otras variables numericas."
   ]
  },
  {
   "cell_type": "code",
   "execution_count": 28,
   "metadata": {},
   "outputs": [
    {
     "name": "stdout",
     "output_type": "stream",
     "text": [
      "<class 'pandas.core.frame.DataFrame'>\n",
      "Int64Index: 194929 entries, 0 to 194928\n",
      "Data columns (total 10 columns):\n",
      " #   Column           Non-Null Count   Dtype  \n",
      "---  ------           --------------   -----  \n",
      " 0   l3               194929 non-null  object \n",
      " 1   rooms            194929 non-null  float64\n",
      " 2   bedrooms         194929 non-null  float64\n",
      " 3   bathrooms        194929 non-null  float64\n",
      " 4   surface_total    194929 non-null  float64\n",
      " 5   surface_covered  194929 non-null  float64\n",
      " 6   price            194929 non-null  float64\n",
      " 7   property_type    194929 non-null  object \n",
      " 8   tipo_delito      194929 non-null  object \n",
      " 9   count            194929 non-null  int32  \n",
      "dtypes: float64(6), int32(1), object(3)\n",
      "memory usage: 15.6+ MB\n"
     ]
    }
   ],
   "source": [
    "new_properati_Capital1_All_sin_bedrooms_clean_l3_security.info()"
   ]
  },
  {
   "cell_type": "markdown",
   "metadata": {},
   "source": [
    "### 2.3 - Detección y eliminación de Outliers y valores erroneos."
   ]
  },
  {
   "cell_type": "markdown",
   "metadata": {},
   "source": [
    "#### - Veamos la distribucion del atributo \"count\""
   ]
  },
  {
   "cell_type": "code",
   "execution_count": 29,
   "metadata": {},
   "outputs": [
    {
     "data": {
      "text/plain": [
       "Text(0.5, 1.0, 'Distribucion atributo count')"
      ]
     },
     "execution_count": 29,
     "metadata": {},
     "output_type": "execute_result"
    },
    {
     "data": {
      "image/png": "[encoded data removed]",
      "text/plain": [
       "<Figure size 1440x216 with 1 Axes>"
      ]
     },
     "metadata": {
      "needs_background": "light"
     },
     "output_type": "display_data"
    }
   ],
   "source": [
    "plt.subplots(figsize=(20, 3))\n",
    "sns.boxplot(new_properati_Capital1_All_sin_bedrooms_clean_l3_security[\"count\"],palette=\"Spectral\",orient=\"h\")\n",
    "plt.xlabel('Cantidad delitos',size=14)\n",
    "plt.ylabel('count delitos',size=14)\n",
    "plt.title(\"Distribucion atributo count\" ,size=18)"
   ]
  },
  {
   "cell_type": "markdown",
   "metadata": {},
   "source": [
    "### - No hay outliers para extraer."
   ]
  },
  {
   "cell_type": "markdown",
   "metadata": {},
   "source": [
    "### 2.4 - Valores nulos "
   ]
  },
  {
   "cell_type": "code",
   "execution_count": 30,
   "metadata": {},
   "outputs": [
    {
     "data": {
      "text/plain": [
       "l3                 0\n",
       "rooms              0\n",
       "bedrooms           0\n",
       "bathrooms          0\n",
       "surface_total      0\n",
       "surface_covered    0\n",
       "price              0\n",
       "property_type      0\n",
       "tipo_delito        0\n",
       "count              0\n",
       "dtype: int64"
      ]
     },
     "execution_count": 30,
     "metadata": {},
     "output_type": "execute_result"
    }
   ],
   "source": [
    "new_properati_Capital1_All_sin_bedrooms_clean_l3_security.isnull().sum()"
   ]
  },
  {
   "cell_type": "markdown",
   "metadata": {},
   "source": [
    "#### - Despues de la unificacion de los dos df, ya no tengo mas ese 0.5% de nulos en el atributo \"barrio\""
   ]
  },
  {
   "cell_type": "markdown",
   "metadata": {},
   "source": [
    "### 2.5 - Escalado de Datos"
   ]
  },
  {
   "cell_type": "code",
   "execution_count": 31,
   "metadata": {},
   "outputs": [
    {
     "data": {
      "text/plain": [
       "(194929, 10)"
      ]
     },
     "metadata": {},
     "output_type": "display_data"
    },
    {
     "data": {
      "text/html": [
       "<div>\n",
       "<style scoped>\n",
       "    .dataframe tbody tr th:only-of-type {\n",
       "        vertical-align: middle;\n",
       "    }\n",
       "\n",
       "    .dataframe tbody tr th {\n",
       "        vertical-align: top;\n",
       "    }\n",
       "\n",
       "    .dataframe thead th {\n",
       "        text-align: right;\n",
       "    }\n",
       "</style>\n",
       "<table border=\"1\" class=\"dataframe\">\n",
       "  <thead>\n",
       "    <tr style=\"text-align: right;\">\n",
       "      <th></th>\n",
       "      <th>l3</th>\n",
       "      <th>rooms</th>\n",
       "      <th>bedrooms</th>\n",
       "      <th>bathrooms</th>\n",
       "      <th>surface_total</th>\n",
       "      <th>surface_covered</th>\n",
       "      <th>price</th>\n",
       "      <th>property_type</th>\n",
       "      <th>tipo_delito</th>\n",
       "      <th>count</th>\n",
       "    </tr>\n",
       "  </thead>\n",
       "  <tbody>\n",
       "    <tr>\n",
       "      <th>0</th>\n",
       "      <td>Boedo</td>\n",
       "      <td>2.0</td>\n",
       "      <td>1.0</td>\n",
       "      <td>2.0</td>\n",
       "      <td>70.0</td>\n",
       "      <td>58.0</td>\n",
       "      <td>159000.0</td>\n",
       "      <td>PH</td>\n",
       "      <td>Homicidio</td>\n",
       "      <td>2</td>\n",
       "    </tr>\n",
       "    <tr>\n",
       "      <th>1</th>\n",
       "      <td>Boedo</td>\n",
       "      <td>2.0</td>\n",
       "      <td>1.0</td>\n",
       "      <td>2.0</td>\n",
       "      <td>70.0</td>\n",
       "      <td>58.0</td>\n",
       "      <td>159000.0</td>\n",
       "      <td>PH</td>\n",
       "      <td>Hurto (sin violencia)</td>\n",
       "      <td>710</td>\n",
       "    </tr>\n",
       "    <tr>\n",
       "      <th>2</th>\n",
       "      <td>Boedo</td>\n",
       "      <td>2.0</td>\n",
       "      <td>1.0</td>\n",
       "      <td>2.0</td>\n",
       "      <td>70.0</td>\n",
       "      <td>58.0</td>\n",
       "      <td>159000.0</td>\n",
       "      <td>PH</td>\n",
       "      <td>Lesiones</td>\n",
       "      <td>90</td>\n",
       "    </tr>\n",
       "  </tbody>\n",
       "</table>\n",
       "</div>"
      ],
      "text/plain": [
       "      l3  rooms  bedrooms  bathrooms  surface_total  surface_covered  \\\n",
       "0  Boedo    2.0       1.0        2.0           70.0             58.0   \n",
       "1  Boedo    2.0       1.0        2.0           70.0             58.0   \n",
       "2  Boedo    2.0       1.0        2.0           70.0             58.0   \n",
       "\n",
       "      price property_type            tipo_delito  count  \n",
       "0  159000.0            PH              Homicidio      2  \n",
       "1  159000.0            PH  Hurto (sin violencia)    710  \n",
       "2  159000.0            PH               Lesiones     90  "
      ]
     },
     "metadata": {},
     "output_type": "display_data"
    },
    {
     "data": {
      "text/plain": [
       "(194929, 7)"
      ]
     },
     "metadata": {},
     "output_type": "display_data"
    },
    {
     "data": {
      "text/html": [
       "<div>\n",
       "<style scoped>\n",
       "    .dataframe tbody tr th:only-of-type {\n",
       "        vertical-align: middle;\n",
       "    }\n",
       "\n",
       "    .dataframe tbody tr th {\n",
       "        vertical-align: top;\n",
       "    }\n",
       "\n",
       "    .dataframe thead th {\n",
       "        text-align: right;\n",
       "    }\n",
       "</style>\n",
       "<table border=\"1\" class=\"dataframe\">\n",
       "  <thead>\n",
       "    <tr style=\"text-align: right;\">\n",
       "      <th></th>\n",
       "      <th>0</th>\n",
       "      <th>1</th>\n",
       "      <th>2</th>\n",
       "      <th>3</th>\n",
       "      <th>4</th>\n",
       "      <th>5</th>\n",
       "      <th>6</th>\n",
       "    </tr>\n",
       "  </thead>\n",
       "  <tbody>\n",
       "    <tr>\n",
       "      <th>0</th>\n",
       "      <td>-0.494619</td>\n",
       "      <td>-0.62544</td>\n",
       "      <td>0.716538</td>\n",
       "      <td>-0.753836</td>\n",
       "      <td>-1.208912</td>\n",
       "      <td>-1.299634</td>\n",
       "      <td>-0.823205</td>\n",
       "    </tr>\n",
       "    <tr>\n",
       "      <th>1</th>\n",
       "      <td>-0.494619</td>\n",
       "      <td>-0.62544</td>\n",
       "      <td>0.716538</td>\n",
       "      <td>-0.753836</td>\n",
       "      <td>-1.208912</td>\n",
       "      <td>-1.299634</td>\n",
       "      <td>-0.340353</td>\n",
       "    </tr>\n",
       "    <tr>\n",
       "      <th>2</th>\n",
       "      <td>-0.494619</td>\n",
       "      <td>-0.62544</td>\n",
       "      <td>0.716538</td>\n",
       "      <td>-0.753836</td>\n",
       "      <td>-1.208912</td>\n",
       "      <td>-1.299634</td>\n",
       "      <td>-0.763190</td>\n",
       "    </tr>\n",
       "  </tbody>\n",
       "</table>\n",
       "</div>"
      ],
      "text/plain": [
       "          0        1         2         3         4         5         6\n",
       "0 -0.494619 -0.62544  0.716538 -0.753836 -1.208912 -1.299634 -0.823205\n",
       "1 -0.494619 -0.62544  0.716538 -0.753836 -1.208912 -1.299634 -0.340353\n",
       "2 -0.494619 -0.62544  0.716538 -0.753836 -1.208912 -1.299634 -0.763190"
      ]
     },
     "execution_count": 31,
     "metadata": {},
     "output_type": "execute_result"
    }
   ],
   "source": [
    "from sklearn.preprocessing import StandardScaler\n",
    "from sklearn.preprocessing import RobustScaler\n",
    "\n",
    "scaler_Standard=StandardScaler()\n",
    "\n",
    "scaler_Standard.fit(new_properati_Capital1_All_sin_bedrooms_clean_l3_security[[\"surface_total\",\"surface_covered\", \"bathrooms\",\n",
    "                                                                               \"price\",\"rooms\",\"bedrooms\",\"count\"]])\n",
    "new_properati_Capital1_All_sin_bedrooms_clean_l3_security_normalizado= scaler_Standard.transform(new_properati_Capital1_All_sin_bedrooms_clean_l3_security[[\"surface_total\",\n",
    "\"surface_covered\", \"bathrooms\",\"price\",\"rooms\",\"bedrooms\",\"count\"]])\n",
    "\n",
    "df=pd.DataFrame(new_properati_Capital1_All_sin_bedrooms_clean_l3_security)\n",
    "display(df.shape)\n",
    "display(df.head(3))\n",
    "\n",
    "df2=pd.DataFrame(new_properati_Capital1_All_sin_bedrooms_clean_l3_security_normalizado)\n",
    "display(df2.shape)\n",
    "df2.head(3)\n"
   ]
  },
  {
   "cell_type": "code",
   "execution_count": 32,
   "metadata": {},
   "outputs": [],
   "source": [
    "new_properati_Capital1_All_sin_bedrooms_clean_l3_security_normalizado2=pd.DataFrame(new_properati_Capital1_All_sin_bedrooms_clean_l3_security_normalizado)\n",
    "new_properati_Capital1_All_sin_bedrooms_clean_l3_security_normalizado2=pd.DataFrame(new_properati_Capital1_All_sin_bedrooms_clean_l3_security_normalizado,index=new_properati_Capital1_All_sin_bedrooms_clean_l3_security[[\"surface_total\",\"surface_covered\", \n",
    "                                                                                                  \"bathrooms\",\"price\",\"rooms\",\"bedrooms\",\"count\"]].index,\n",
    "               columns=new_properati_Capital1_All_sin_bedrooms_clean_l3_security[[\"surface_total\",\"surface_covered\", \n",
    "                                                                                                  \"bathrooms\",\"price\",\"rooms\",\"bedrooms\",\"count\"]].columns)"
   ]
  },
  {
   "cell_type": "code",
   "execution_count": 33,
   "metadata": {},
   "outputs": [
    {
     "data": {
      "text/html": [
       "<div>\n",
       "<style scoped>\n",
       "    .dataframe tbody tr th:only-of-type {\n",
       "        vertical-align: middle;\n",
       "    }\n",
       "\n",
       "    .dataframe tbody tr th {\n",
       "        vertical-align: top;\n",
       "    }\n",
       "\n",
       "    .dataframe thead th {\n",
       "        text-align: right;\n",
       "    }\n",
       "</style>\n",
       "<table border=\"1\" class=\"dataframe\">\n",
       "  <thead>\n",
       "    <tr style=\"text-align: right;\">\n",
       "      <th></th>\n",
       "      <th>surface_total</th>\n",
       "      <th>surface_covered</th>\n",
       "      <th>bathrooms</th>\n",
       "      <th>price</th>\n",
       "      <th>rooms</th>\n",
       "      <th>bedrooms</th>\n",
       "      <th>count</th>\n",
       "    </tr>\n",
       "  </thead>\n",
       "  <tbody>\n",
       "    <tr>\n",
       "      <th>0</th>\n",
       "      <td>-0.49462</td>\n",
       "      <td>-0.62544</td>\n",
       "      <td>0.71654</td>\n",
       "      <td>-0.75384</td>\n",
       "      <td>-1.20891</td>\n",
       "      <td>-1.29963</td>\n",
       "      <td>-0.82321</td>\n",
       "    </tr>\n",
       "    <tr>\n",
       "      <th>1</th>\n",
       "      <td>-0.49462</td>\n",
       "      <td>-0.62544</td>\n",
       "      <td>0.71654</td>\n",
       "      <td>-0.75384</td>\n",
       "      <td>-1.20891</td>\n",
       "      <td>-1.29963</td>\n",
       "      <td>-0.34035</td>\n",
       "    </tr>\n",
       "    <tr>\n",
       "      <th>2</th>\n",
       "      <td>-0.49462</td>\n",
       "      <td>-0.62544</td>\n",
       "      <td>0.71654</td>\n",
       "      <td>-0.75384</td>\n",
       "      <td>-1.20891</td>\n",
       "      <td>-1.29963</td>\n",
       "      <td>-0.76319</td>\n",
       "    </tr>\n",
       "    <tr>\n",
       "      <th>3</th>\n",
       "      <td>-0.49462</td>\n",
       "      <td>-0.62544</td>\n",
       "      <td>0.71654</td>\n",
       "      <td>-0.75384</td>\n",
       "      <td>-1.20891</td>\n",
       "      <td>-1.29963</td>\n",
       "      <td>-0.13985</td>\n",
       "    </tr>\n",
       "    <tr>\n",
       "      <th>4</th>\n",
       "      <td>-0.55382</td>\n",
       "      <td>-0.59016</td>\n",
       "      <td>-0.77143</td>\n",
       "      <td>-0.86666</td>\n",
       "      <td>-1.20891</td>\n",
       "      <td>-1.29963</td>\n",
       "      <td>-0.82321</td>\n",
       "    </tr>\n",
       "  </tbody>\n",
       "</table>\n",
       "</div>"
      ],
      "text/plain": [
       "   surface_total  surface_covered  bathrooms    price    rooms  bedrooms  \\\n",
       "0       -0.49462         -0.62544    0.71654 -0.75384 -1.20891  -1.29963   \n",
       "1       -0.49462         -0.62544    0.71654 -0.75384 -1.20891  -1.29963   \n",
       "2       -0.49462         -0.62544    0.71654 -0.75384 -1.20891  -1.29963   \n",
       "3       -0.49462         -0.62544    0.71654 -0.75384 -1.20891  -1.29963   \n",
       "4       -0.55382         -0.59016   -0.77143 -0.86666 -1.20891  -1.29963   \n",
       "\n",
       "     count  \n",
       "0 -0.82321  \n",
       "1 -0.34035  \n",
       "2 -0.76319  \n",
       "3 -0.13985  \n",
       "4 -0.82321  "
      ]
     },
     "execution_count": 33,
     "metadata": {},
     "output_type": "execute_result"
    }
   ],
   "source": [
    "new_properati_Capital1_All_sin_bedrooms_clean_l3_security_normalizado2.head().round(5)"
   ]
  },
  {
   "cell_type": "markdown",
   "metadata": {},
   "source": [
    "#### - Al df new_properati_Capital1_All_sin_bedrooms_clean_l3_security_normalizado2 lo creo desde el df new_properati_Capital1_All_sin_bedrooms_clean_l3_security asignandole los valores del new_properati_Capital1_All_sin_bedrooms_clean_l3_security_normalizado; este ultimo ya reescalado por el metodo Standar_Scaler."
   ]
  },
  {
   "cell_type": "code",
   "execution_count": 34,
   "metadata": {},
   "outputs": [
    {
     "data": {
      "text/html": [
       "<div>\n",
       "<style scoped>\n",
       "    .dataframe tbody tr th:only-of-type {\n",
       "        vertical-align: middle;\n",
       "    }\n",
       "\n",
       "    .dataframe tbody tr th {\n",
       "        vertical-align: top;\n",
       "    }\n",
       "\n",
       "    .dataframe thead th {\n",
       "        text-align: right;\n",
       "    }\n",
       "</style>\n",
       "<table border=\"1\" class=\"dataframe\">\n",
       "  <thead>\n",
       "    <tr style=\"text-align: right;\">\n",
       "      <th></th>\n",
       "      <th>rooms</th>\n",
       "      <th>bedrooms</th>\n",
       "      <th>bathrooms</th>\n",
       "      <th>surface_total</th>\n",
       "      <th>surface_covered</th>\n",
       "      <th>price</th>\n",
       "      <th>count</th>\n",
       "    </tr>\n",
       "  </thead>\n",
       "  <tbody>\n",
       "    <tr>\n",
       "      <th>count</th>\n",
       "      <td>194929.00000</td>\n",
       "      <td>194929.00000</td>\n",
       "      <td>194929.00000</td>\n",
       "      <td>194929.00000</td>\n",
       "      <td>194929.00000</td>\n",
       "      <td>194929.00000</td>\n",
       "      <td>194929.00000</td>\n",
       "    </tr>\n",
       "    <tr>\n",
       "      <th>mean</th>\n",
       "      <td>3.10350</td>\n",
       "      <td>2.08013</td>\n",
       "      <td>1.51845</td>\n",
       "      <td>86.71085</td>\n",
       "      <td>75.72844</td>\n",
       "      <td>225815.51924</td>\n",
       "      <td>1209.05531</td>\n",
       "    </tr>\n",
       "    <tr>\n",
       "      <th>std</th>\n",
       "      <td>0.91281</td>\n",
       "      <td>0.83111</td>\n",
       "      <td>0.67206</td>\n",
       "      <td>33.78541</td>\n",
       "      <td>28.34564</td>\n",
       "      <td>88634.26824</td>\n",
       "      <td>1466.29104</td>\n",
       "    </tr>\n",
       "    <tr>\n",
       "      <th>min</th>\n",
       "      <td>1.00000</td>\n",
       "      <td>0.00000</td>\n",
       "      <td>1.00000</td>\n",
       "      <td>45.00000</td>\n",
       "      <td>35.00000</td>\n",
       "      <td>114500.00000</td>\n",
       "      <td>1.00000</td>\n",
       "    </tr>\n",
       "    <tr>\n",
       "      <th>25%</th>\n",
       "      <td>2.00000</td>\n",
       "      <td>1.00000</td>\n",
       "      <td>1.00000</td>\n",
       "      <td>60.00000</td>\n",
       "      <td>54.00000</td>\n",
       "      <td>157354.00000</td>\n",
       "      <td>38.00000</td>\n",
       "    </tr>\n",
       "    <tr>\n",
       "      <th>50%</th>\n",
       "      <td>3.00000</td>\n",
       "      <td>2.00000</td>\n",
       "      <td>1.00000</td>\n",
       "      <td>78.00000</td>\n",
       "      <td>69.00000</td>\n",
       "      <td>200000.00000</td>\n",
       "      <td>376.00000</td>\n",
       "    </tr>\n",
       "    <tr>\n",
       "      <th>75%</th>\n",
       "      <td>4.00000</td>\n",
       "      <td>3.00000</td>\n",
       "      <td>2.00000</td>\n",
       "      <td>104.00000</td>\n",
       "      <td>90.00000</td>\n",
       "      <td>270000.00000</td>\n",
       "      <td>2096.00000</td>\n",
       "    </tr>\n",
       "    <tr>\n",
       "      <th>max</th>\n",
       "      <td>7.00000</td>\n",
       "      <td>12.00000</td>\n",
       "      <td>4.00000</td>\n",
       "      <td>203.00000</td>\n",
       "      <td>173.00000</td>\n",
       "      <td>515000.00000</td>\n",
       "      <td>4902.00000</td>\n",
       "    </tr>\n",
       "  </tbody>\n",
       "</table>\n",
       "</div>"
      ],
      "text/plain": [
       "              rooms      bedrooms     bathrooms  surface_total  \\\n",
       "count  194929.00000  194929.00000  194929.00000   194929.00000   \n",
       "mean        3.10350       2.08013       1.51845       86.71085   \n",
       "std         0.91281       0.83111       0.67206       33.78541   \n",
       "min         1.00000       0.00000       1.00000       45.00000   \n",
       "25%         2.00000       1.00000       1.00000       60.00000   \n",
       "50%         3.00000       2.00000       1.00000       78.00000   \n",
       "75%         4.00000       3.00000       2.00000      104.00000   \n",
       "max         7.00000      12.00000       4.00000      203.00000   \n",
       "\n",
       "       surface_covered         price         count  \n",
       "count     194929.00000  194929.00000  194929.00000  \n",
       "mean          75.72844  225815.51924    1209.05531  \n",
       "std           28.34564   88634.26824    1466.29104  \n",
       "min           35.00000  114500.00000       1.00000  \n",
       "25%           54.00000  157354.00000      38.00000  \n",
       "50%           69.00000  200000.00000     376.00000  \n",
       "75%           90.00000  270000.00000    2096.00000  \n",
       "max          173.00000  515000.00000    4902.00000  "
      ]
     },
     "metadata": {},
     "output_type": "display_data"
    },
    {
     "data": {
      "text/html": [
       "<div>\n",
       "<style scoped>\n",
       "    .dataframe tbody tr th:only-of-type {\n",
       "        vertical-align: middle;\n",
       "    }\n",
       "\n",
       "    .dataframe tbody tr th {\n",
       "        vertical-align: top;\n",
       "    }\n",
       "\n",
       "    .dataframe thead th {\n",
       "        text-align: right;\n",
       "    }\n",
       "</style>\n",
       "<table border=\"1\" class=\"dataframe\">\n",
       "  <thead>\n",
       "    <tr style=\"text-align: right;\">\n",
       "      <th></th>\n",
       "      <th>surface_total</th>\n",
       "      <th>surface_covered</th>\n",
       "      <th>bathrooms</th>\n",
       "      <th>price</th>\n",
       "      <th>rooms</th>\n",
       "      <th>bedrooms</th>\n",
       "      <th>count</th>\n",
       "    </tr>\n",
       "  </thead>\n",
       "  <tbody>\n",
       "    <tr>\n",
       "      <th>count</th>\n",
       "      <td>194929.00000</td>\n",
       "      <td>194929.00000</td>\n",
       "      <td>194929.00000</td>\n",
       "      <td>194929.00000</td>\n",
       "      <td>194929.00000</td>\n",
       "      <td>194929.00000</td>\n",
       "      <td>194929.00000</td>\n",
       "    </tr>\n",
       "    <tr>\n",
       "      <th>mean</th>\n",
       "      <td>0.00000</td>\n",
       "      <td>0.00000</td>\n",
       "      <td>0.00000</td>\n",
       "      <td>0.00000</td>\n",
       "      <td>-0.00000</td>\n",
       "      <td>-0.00000</td>\n",
       "      <td>0.00000</td>\n",
       "    </tr>\n",
       "    <tr>\n",
       "      <th>std</th>\n",
       "      <td>1.00000</td>\n",
       "      <td>1.00000</td>\n",
       "      <td>1.00000</td>\n",
       "      <td>1.00000</td>\n",
       "      <td>1.00000</td>\n",
       "      <td>1.00000</td>\n",
       "      <td>1.00000</td>\n",
       "    </tr>\n",
       "    <tr>\n",
       "      <th>min</th>\n",
       "      <td>-1.23458</td>\n",
       "      <td>-1.43685</td>\n",
       "      <td>-0.77143</td>\n",
       "      <td>-1.25590</td>\n",
       "      <td>-2.30444</td>\n",
       "      <td>-2.50285</td>\n",
       "      <td>-0.82389</td>\n",
       "    </tr>\n",
       "    <tr>\n",
       "      <th>25%</th>\n",
       "      <td>-0.79060</td>\n",
       "      <td>-0.76656</td>\n",
       "      <td>-0.77143</td>\n",
       "      <td>-0.77241</td>\n",
       "      <td>-1.20891</td>\n",
       "      <td>-1.29963</td>\n",
       "      <td>-0.79865</td>\n",
       "    </tr>\n",
       "    <tr>\n",
       "      <th>50%</th>\n",
       "      <td>-0.25783</td>\n",
       "      <td>-0.23737</td>\n",
       "      <td>-0.77143</td>\n",
       "      <td>-0.29126</td>\n",
       "      <td>-0.11339</td>\n",
       "      <td>-0.09642</td>\n",
       "      <td>-0.56814</td>\n",
       "    </tr>\n",
       "    <tr>\n",
       "      <th>75%</th>\n",
       "      <td>0.51174</td>\n",
       "      <td>0.50348</td>\n",
       "      <td>0.71654</td>\n",
       "      <td>0.49850</td>\n",
       "      <td>0.98214</td>\n",
       "      <td>1.10680</td>\n",
       "      <td>0.60489</td>\n",
       "    </tr>\n",
       "    <tr>\n",
       "      <th>max</th>\n",
       "      <td>3.44200</td>\n",
       "      <td>3.43163</td>\n",
       "      <td>3.69247</td>\n",
       "      <td>3.26268</td>\n",
       "      <td>4.26872</td>\n",
       "      <td>11.93576</td>\n",
       "      <td>2.51857</td>\n",
       "    </tr>\n",
       "  </tbody>\n",
       "</table>\n",
       "</div>"
      ],
      "text/plain": [
       "       surface_total  surface_covered     bathrooms         price  \\\n",
       "count   194929.00000     194929.00000  194929.00000  194929.00000   \n",
       "mean         0.00000          0.00000       0.00000       0.00000   \n",
       "std          1.00000          1.00000       1.00000       1.00000   \n",
       "min         -1.23458         -1.43685      -0.77143      -1.25590   \n",
       "25%         -0.79060         -0.76656      -0.77143      -0.77241   \n",
       "50%         -0.25783         -0.23737      -0.77143      -0.29126   \n",
       "75%          0.51174          0.50348       0.71654       0.49850   \n",
       "max          3.44200          3.43163       3.69247       3.26268   \n",
       "\n",
       "              rooms      bedrooms         count  \n",
       "count  194929.00000  194929.00000  194929.00000  \n",
       "mean       -0.00000      -0.00000       0.00000  \n",
       "std         1.00000       1.00000       1.00000  \n",
       "min        -2.30444      -2.50285      -0.82389  \n",
       "25%        -1.20891      -1.29963      -0.79865  \n",
       "50%        -0.11339      -0.09642      -0.56814  \n",
       "75%         0.98214       1.10680       0.60489  \n",
       "max         4.26872      11.93576       2.51857  "
      ]
     },
     "execution_count": 34,
     "metadata": {},
     "output_type": "execute_result"
    }
   ],
   "source": [
    "display(new_properati_Capital1_All_sin_bedrooms_clean_l3_security.describe().round(5))\n",
    "new_properati_Capital1_All_sin_bedrooms_clean_l3_security_normalizado2.describe().round(5)"
   ]
  },
  {
   "cell_type": "markdown",
   "metadata": {},
   "source": [
    "#### - En todos los atributos sus medias y std se vieron mejoradas acercandose a 0 y 1 respectivamente."
   ]
  },
  {
   "cell_type": "markdown",
   "metadata": {},
   "source": [
    "### 2.6 - Encoding"
   ]
  },
  {
   "cell_type": "markdown",
   "metadata": {},
   "source": [
    "#### - Vamos a hacer un dummies para transformar las variables \"unique\" categoricas (string) de los atributos \"property_type\", \"l3\" y \"tipo_delito\" en variables dummies (int). Lo haremos en los dos df que vamos a utilizar. new_properati_Capital1_All_sin_bedrooms_clean_l3_security que sera sin normalizar y el new_properati_Capital1_All_sin_bedrooms_clean_l3_security_normalizado2 que esta normalizado."
   ]
  },
  {
   "cell_type": "code",
   "execution_count": 35,
   "metadata": {},
   "outputs": [
    {
     "data": {
      "text/html": [
       "<div>\n",
       "<style scoped>\n",
       "    .dataframe tbody tr th:only-of-type {\n",
       "        vertical-align: middle;\n",
       "    }\n",
       "\n",
       "    .dataframe tbody tr th {\n",
       "        vertical-align: top;\n",
       "    }\n",
       "\n",
       "    .dataframe thead th {\n",
       "        text-align: right;\n",
       "    }\n",
       "</style>\n",
       "<table border=\"1\" class=\"dataframe\">\n",
       "  <thead>\n",
       "    <tr style=\"text-align: right;\">\n",
       "      <th></th>\n",
       "      <th>surface_total</th>\n",
       "      <th>surface_covered</th>\n",
       "      <th>bathrooms</th>\n",
       "      <th>price</th>\n",
       "      <th>rooms</th>\n",
       "      <th>bedrooms</th>\n",
       "      <th>count</th>\n",
       "      <th>property_type_Casa</th>\n",
       "      <th>property_type_Departamento</th>\n",
       "      <th>property_type_PH</th>\n",
       "      <th>...</th>\n",
       "      <th>l3_Villa Real</th>\n",
       "      <th>l3_Villa Riachuelo</th>\n",
       "      <th>l3_Villa Santa Rita</th>\n",
       "      <th>l3_Villa Soldati</th>\n",
       "      <th>l3_Villa Urquiza</th>\n",
       "      <th>l3_Villa del Parque</th>\n",
       "      <th>tipo_delito_Homicidio</th>\n",
       "      <th>tipo_delito_Hurto (sin violencia)</th>\n",
       "      <th>tipo_delito_Lesiones</th>\n",
       "      <th>tipo_delito_Robo (con violencia)</th>\n",
       "    </tr>\n",
       "  </thead>\n",
       "  <tbody>\n",
       "    <tr>\n",
       "      <th>0</th>\n",
       "      <td>-0.494619</td>\n",
       "      <td>-0.625440</td>\n",
       "      <td>0.716538</td>\n",
       "      <td>-0.753836</td>\n",
       "      <td>-1.208912</td>\n",
       "      <td>-1.299634</td>\n",
       "      <td>-0.823205</td>\n",
       "      <td>0</td>\n",
       "      <td>0</td>\n",
       "      <td>1</td>\n",
       "      <td>...</td>\n",
       "      <td>0</td>\n",
       "      <td>0</td>\n",
       "      <td>0</td>\n",
       "      <td>0</td>\n",
       "      <td>0</td>\n",
       "      <td>0</td>\n",
       "      <td>1</td>\n",
       "      <td>0</td>\n",
       "      <td>0</td>\n",
       "      <td>0</td>\n",
       "    </tr>\n",
       "    <tr>\n",
       "      <th>1</th>\n",
       "      <td>-0.494619</td>\n",
       "      <td>-0.625440</td>\n",
       "      <td>0.716538</td>\n",
       "      <td>-0.753836</td>\n",
       "      <td>-1.208912</td>\n",
       "      <td>-1.299634</td>\n",
       "      <td>-0.340353</td>\n",
       "      <td>0</td>\n",
       "      <td>0</td>\n",
       "      <td>1</td>\n",
       "      <td>...</td>\n",
       "      <td>0</td>\n",
       "      <td>0</td>\n",
       "      <td>0</td>\n",
       "      <td>0</td>\n",
       "      <td>0</td>\n",
       "      <td>0</td>\n",
       "      <td>0</td>\n",
       "      <td>1</td>\n",
       "      <td>0</td>\n",
       "      <td>0</td>\n",
       "    </tr>\n",
       "    <tr>\n",
       "      <th>2</th>\n",
       "      <td>-0.494619</td>\n",
       "      <td>-0.625440</td>\n",
       "      <td>0.716538</td>\n",
       "      <td>-0.753836</td>\n",
       "      <td>-1.208912</td>\n",
       "      <td>-1.299634</td>\n",
       "      <td>-0.763190</td>\n",
       "      <td>0</td>\n",
       "      <td>0</td>\n",
       "      <td>1</td>\n",
       "      <td>...</td>\n",
       "      <td>0</td>\n",
       "      <td>0</td>\n",
       "      <td>0</td>\n",
       "      <td>0</td>\n",
       "      <td>0</td>\n",
       "      <td>0</td>\n",
       "      <td>0</td>\n",
       "      <td>0</td>\n",
       "      <td>1</td>\n",
       "      <td>0</td>\n",
       "    </tr>\n",
       "    <tr>\n",
       "      <th>3</th>\n",
       "      <td>-0.494619</td>\n",
       "      <td>-0.625440</td>\n",
       "      <td>0.716538</td>\n",
       "      <td>-0.753836</td>\n",
       "      <td>-1.208912</td>\n",
       "      <td>-1.299634</td>\n",
       "      <td>-0.139847</td>\n",
       "      <td>0</td>\n",
       "      <td>0</td>\n",
       "      <td>1</td>\n",
       "      <td>...</td>\n",
       "      <td>0</td>\n",
       "      <td>0</td>\n",
       "      <td>0</td>\n",
       "      <td>0</td>\n",
       "      <td>0</td>\n",
       "      <td>0</td>\n",
       "      <td>0</td>\n",
       "      <td>0</td>\n",
       "      <td>0</td>\n",
       "      <td>1</td>\n",
       "    </tr>\n",
       "    <tr>\n",
       "      <th>4</th>\n",
       "      <td>-0.553816</td>\n",
       "      <td>-0.590161</td>\n",
       "      <td>-0.771430</td>\n",
       "      <td>-0.866659</td>\n",
       "      <td>-1.208912</td>\n",
       "      <td>-1.299634</td>\n",
       "      <td>-0.823205</td>\n",
       "      <td>0</td>\n",
       "      <td>1</td>\n",
       "      <td>0</td>\n",
       "      <td>...</td>\n",
       "      <td>0</td>\n",
       "      <td>0</td>\n",
       "      <td>0</td>\n",
       "      <td>0</td>\n",
       "      <td>0</td>\n",
       "      <td>0</td>\n",
       "      <td>1</td>\n",
       "      <td>0</td>\n",
       "      <td>0</td>\n",
       "      <td>0</td>\n",
       "    </tr>\n",
       "  </tbody>\n",
       "</table>\n",
       "<p>5 rows × 59 columns</p>\n",
       "</div>"
      ],
      "text/plain": [
       "   surface_total  surface_covered  bathrooms     price     rooms  bedrooms  \\\n",
       "0      -0.494619        -0.625440   0.716538 -0.753836 -1.208912 -1.299634   \n",
       "1      -0.494619        -0.625440   0.716538 -0.753836 -1.208912 -1.299634   \n",
       "2      -0.494619        -0.625440   0.716538 -0.753836 -1.208912 -1.299634   \n",
       "3      -0.494619        -0.625440   0.716538 -0.753836 -1.208912 -1.299634   \n",
       "4      -0.553816        -0.590161  -0.771430 -0.866659 -1.208912 -1.299634   \n",
       "\n",
       "      count  property_type_Casa  property_type_Departamento  property_type_PH  \\\n",
       "0 -0.823205                   0                           0                 1   \n",
       "1 -0.340353                   0                           0                 1   \n",
       "2 -0.763190                   0                           0                 1   \n",
       "3 -0.139847                   0                           0                 1   \n",
       "4 -0.823205                   0                           1                 0   \n",
       "\n",
       "   ...  l3_Villa Real  l3_Villa Riachuelo  l3_Villa Santa Rita  \\\n",
       "0  ...              0                   0                    0   \n",
       "1  ...              0                   0                    0   \n",
       "2  ...              0                   0                    0   \n",
       "3  ...              0                   0                    0   \n",
       "4  ...              0                   0                    0   \n",
       "\n",
       "   l3_Villa Soldati  l3_Villa Urquiza  l3_Villa del Parque  \\\n",
       "0                 0                 0                    0   \n",
       "1                 0                 0                    0   \n",
       "2                 0                 0                    0   \n",
       "3                 0                 0                    0   \n",
       "4                 0                 0                    0   \n",
       "\n",
       "   tipo_delito_Homicidio  tipo_delito_Hurto (sin violencia)  \\\n",
       "0                      1                                  0   \n",
       "1                      0                                  1   \n",
       "2                      0                                  0   \n",
       "3                      0                                  0   \n",
       "4                      1                                  0   \n",
       "\n",
       "   tipo_delito_Lesiones  tipo_delito_Robo (con violencia)  \n",
       "0                     0                                 0  \n",
       "1                     0                                 0  \n",
       "2                     1                                 0  \n",
       "3                     0                                 1  \n",
       "4                     0                                 0  \n",
       "\n",
       "[5 rows x 59 columns]"
      ]
     },
     "execution_count": 35,
     "metadata": {},
     "output_type": "execute_result"
    }
   ],
   "source": [
    "dummies = pd.get_dummies(new_properati_Capital1_All_sin_bedrooms_clean_l3_security[[\"property_type\",\"l3\",\"tipo_delito\"]])\n",
    "new_properati_Capital1_All_sin_bedrooms_clean_l3_security_normalizado3 = pd.concat([new_properati_Capital1_All_sin_bedrooms_clean_l3_security_normalizado2, dummies], axis=1)\n",
    "new_properati_Capital1_All_sin_bedrooms_clean_l3_security_normalizado3.head(5)"
   ]
  },
  {
   "cell_type": "code",
   "execution_count": 36,
   "metadata": {},
   "outputs": [
    {
     "data": {
      "text/html": [
       "<div>\n",
       "<style scoped>\n",
       "    .dataframe tbody tr th:only-of-type {\n",
       "        vertical-align: middle;\n",
       "    }\n",
       "\n",
       "    .dataframe tbody tr th {\n",
       "        vertical-align: top;\n",
       "    }\n",
       "\n",
       "    .dataframe thead th {\n",
       "        text-align: right;\n",
       "    }\n",
       "</style>\n",
       "<table border=\"1\" class=\"dataframe\">\n",
       "  <thead>\n",
       "    <tr style=\"text-align: right;\">\n",
       "      <th></th>\n",
       "      <th>l3</th>\n",
       "      <th>rooms</th>\n",
       "      <th>bedrooms</th>\n",
       "      <th>bathrooms</th>\n",
       "      <th>surface_total</th>\n",
       "      <th>surface_covered</th>\n",
       "      <th>price</th>\n",
       "      <th>property_type</th>\n",
       "      <th>tipo_delito</th>\n",
       "      <th>count</th>\n",
       "      <th>...</th>\n",
       "      <th>l3_Villa Real</th>\n",
       "      <th>l3_Villa Riachuelo</th>\n",
       "      <th>l3_Villa Santa Rita</th>\n",
       "      <th>l3_Villa Soldati</th>\n",
       "      <th>l3_Villa Urquiza</th>\n",
       "      <th>l3_Villa del Parque</th>\n",
       "      <th>tipo_delito_Homicidio</th>\n",
       "      <th>tipo_delito_Hurto (sin violencia)</th>\n",
       "      <th>tipo_delito_Lesiones</th>\n",
       "      <th>tipo_delito_Robo (con violencia)</th>\n",
       "    </tr>\n",
       "  </thead>\n",
       "  <tbody>\n",
       "    <tr>\n",
       "      <th>0</th>\n",
       "      <td>Boedo</td>\n",
       "      <td>2.0</td>\n",
       "      <td>1.0</td>\n",
       "      <td>2.0</td>\n",
       "      <td>70.0</td>\n",
       "      <td>58.0</td>\n",
       "      <td>159000.0</td>\n",
       "      <td>PH</td>\n",
       "      <td>Homicidio</td>\n",
       "      <td>2</td>\n",
       "      <td>...</td>\n",
       "      <td>0</td>\n",
       "      <td>0</td>\n",
       "      <td>0</td>\n",
       "      <td>0</td>\n",
       "      <td>0</td>\n",
       "      <td>0</td>\n",
       "      <td>1</td>\n",
       "      <td>0</td>\n",
       "      <td>0</td>\n",
       "      <td>0</td>\n",
       "    </tr>\n",
       "    <tr>\n",
       "      <th>1</th>\n",
       "      <td>Boedo</td>\n",
       "      <td>2.0</td>\n",
       "      <td>1.0</td>\n",
       "      <td>2.0</td>\n",
       "      <td>70.0</td>\n",
       "      <td>58.0</td>\n",
       "      <td>159000.0</td>\n",
       "      <td>PH</td>\n",
       "      <td>Hurto (sin violencia)</td>\n",
       "      <td>710</td>\n",
       "      <td>...</td>\n",
       "      <td>0</td>\n",
       "      <td>0</td>\n",
       "      <td>0</td>\n",
       "      <td>0</td>\n",
       "      <td>0</td>\n",
       "      <td>0</td>\n",
       "      <td>0</td>\n",
       "      <td>1</td>\n",
       "      <td>0</td>\n",
       "      <td>0</td>\n",
       "    </tr>\n",
       "    <tr>\n",
       "      <th>2</th>\n",
       "      <td>Boedo</td>\n",
       "      <td>2.0</td>\n",
       "      <td>1.0</td>\n",
       "      <td>2.0</td>\n",
       "      <td>70.0</td>\n",
       "      <td>58.0</td>\n",
       "      <td>159000.0</td>\n",
       "      <td>PH</td>\n",
       "      <td>Lesiones</td>\n",
       "      <td>90</td>\n",
       "      <td>...</td>\n",
       "      <td>0</td>\n",
       "      <td>0</td>\n",
       "      <td>0</td>\n",
       "      <td>0</td>\n",
       "      <td>0</td>\n",
       "      <td>0</td>\n",
       "      <td>0</td>\n",
       "      <td>0</td>\n",
       "      <td>1</td>\n",
       "      <td>0</td>\n",
       "    </tr>\n",
       "    <tr>\n",
       "      <th>3</th>\n",
       "      <td>Boedo</td>\n",
       "      <td>2.0</td>\n",
       "      <td>1.0</td>\n",
       "      <td>2.0</td>\n",
       "      <td>70.0</td>\n",
       "      <td>58.0</td>\n",
       "      <td>159000.0</td>\n",
       "      <td>PH</td>\n",
       "      <td>Robo (con violencia)</td>\n",
       "      <td>1004</td>\n",
       "      <td>...</td>\n",
       "      <td>0</td>\n",
       "      <td>0</td>\n",
       "      <td>0</td>\n",
       "      <td>0</td>\n",
       "      <td>0</td>\n",
       "      <td>0</td>\n",
       "      <td>0</td>\n",
       "      <td>0</td>\n",
       "      <td>0</td>\n",
       "      <td>1</td>\n",
       "    </tr>\n",
       "    <tr>\n",
       "      <th>4</th>\n",
       "      <td>Boedo</td>\n",
       "      <td>2.0</td>\n",
       "      <td>1.0</td>\n",
       "      <td>1.0</td>\n",
       "      <td>68.0</td>\n",
       "      <td>59.0</td>\n",
       "      <td>149000.0</td>\n",
       "      <td>Departamento</td>\n",
       "      <td>Homicidio</td>\n",
       "      <td>2</td>\n",
       "      <td>...</td>\n",
       "      <td>0</td>\n",
       "      <td>0</td>\n",
       "      <td>0</td>\n",
       "      <td>0</td>\n",
       "      <td>0</td>\n",
       "      <td>0</td>\n",
       "      <td>1</td>\n",
       "      <td>0</td>\n",
       "      <td>0</td>\n",
       "      <td>0</td>\n",
       "    </tr>\n",
       "  </tbody>\n",
       "</table>\n",
       "<p>5 rows × 62 columns</p>\n",
       "</div>"
      ],
      "text/plain": [
       "      l3  rooms  bedrooms  bathrooms  surface_total  surface_covered  \\\n",
       "0  Boedo    2.0       1.0        2.0           70.0             58.0   \n",
       "1  Boedo    2.0       1.0        2.0           70.0             58.0   \n",
       "2  Boedo    2.0       1.0        2.0           70.0             58.0   \n",
       "3  Boedo    2.0       1.0        2.0           70.0             58.0   \n",
       "4  Boedo    2.0       1.0        1.0           68.0             59.0   \n",
       "\n",
       "      price property_type            tipo_delito  count  ...  l3_Villa Real  \\\n",
       "0  159000.0            PH              Homicidio      2  ...              0   \n",
       "1  159000.0            PH  Hurto (sin violencia)    710  ...              0   \n",
       "2  159000.0            PH               Lesiones     90  ...              0   \n",
       "3  159000.0            PH   Robo (con violencia)   1004  ...              0   \n",
       "4  149000.0  Departamento              Homicidio      2  ...              0   \n",
       "\n",
       "   l3_Villa Riachuelo  l3_Villa Santa Rita  l3_Villa Soldati  \\\n",
       "0                   0                    0                 0   \n",
       "1                   0                    0                 0   \n",
       "2                   0                    0                 0   \n",
       "3                   0                    0                 0   \n",
       "4                   0                    0                 0   \n",
       "\n",
       "   l3_Villa Urquiza  l3_Villa del Parque  tipo_delito_Homicidio  \\\n",
       "0                 0                    0                      1   \n",
       "1                 0                    0                      0   \n",
       "2                 0                    0                      0   \n",
       "3                 0                    0                      0   \n",
       "4                 0                    0                      1   \n",
       "\n",
       "   tipo_delito_Hurto (sin violencia)  tipo_delito_Lesiones  \\\n",
       "0                                  0                     0   \n",
       "1                                  1                     0   \n",
       "2                                  0                     1   \n",
       "3                                  0                     0   \n",
       "4                                  0                     0   \n",
       "\n",
       "   tipo_delito_Robo (con violencia)  \n",
       "0                                 0  \n",
       "1                                 0  \n",
       "2                                 0  \n",
       "3                                 1  \n",
       "4                                 0  \n",
       "\n",
       "[5 rows x 62 columns]"
      ]
     },
     "execution_count": 36,
     "metadata": {},
     "output_type": "execute_result"
    }
   ],
   "source": [
    "dummies2 = pd.get_dummies(new_properati_Capital1_All_sin_bedrooms_clean_l3_security[[\"property_type\",\"l3\",\"tipo_delito\"]])\n",
    "new_properati_Capital1_All_sin_bedrooms_clean_l3_security2 = pd.concat([new_properati_Capital1_All_sin_bedrooms_clean_l3_security, dummies], axis=1)\n",
    "new_properati_Capital1_All_sin_bedrooms_clean_l3_security3=pd.DataFrame(new_properati_Capital1_All_sin_bedrooms_clean_l3_security2)\n",
    "new_properati_Capital1_All_sin_bedrooms_clean_l3_security3.head(5)"
   ]
  },
  {
   "cell_type": "code",
   "execution_count": 37,
   "metadata": {},
   "outputs": [
    {
     "data": {
      "text/plain": [
       "Index(['l3', 'rooms', 'bedrooms', 'bathrooms', 'surface_total',\n",
       "       'surface_covered', 'price', 'property_type', 'tipo_delito', 'count',\n",
       "       'property_type_Casa', 'property_type_Departamento', 'property_type_PH',\n",
       "       'l3_Agronomía', 'l3_Almagro', 'l3_Balvanera', 'l3_Barracas',\n",
       "       'l3_Belgrano', 'l3_Boca', 'l3_Boedo', 'l3_Caballito', 'l3_Chacarita',\n",
       "       'l3_Coghlan', 'l3_Colegiales', 'l3_Constitución', 'l3_Flores',\n",
       "       'l3_Floresta', 'l3_Liniers', 'l3_Mataderos', 'l3_Monserrat',\n",
       "       'l3_Monte Castro', 'l3_Nueva Pompeya', 'l3_Nuñez', 'l3_Palermo',\n",
       "       'l3_Parque Avellaneda', 'l3_Parque Chacabuco', 'l3_Parque Chas',\n",
       "       'l3_Parque Patricios', 'l3_Paternal', 'l3_Puerto Madero', 'l3_Recoleta',\n",
       "       'l3_Retiro', 'l3_Saavedra', 'l3_San Nicolás', 'l3_San Telmo',\n",
       "       'l3_Versalles', 'l3_Villa Crespo', 'l3_Villa Devoto', 'l3_Villa Lugano',\n",
       "       'l3_Villa Luro', 'l3_Villa Ortuzar', 'l3_Villa Pueyrredón',\n",
       "       'l3_Villa Real', 'l3_Villa Riachuelo', 'l3_Villa Santa Rita',\n",
       "       'l3_Villa Soldati', 'l3_Villa Urquiza', 'l3_Villa del Parque',\n",
       "       'tipo_delito_Homicidio', 'tipo_delito_Hurto (sin violencia)',\n",
       "       'tipo_delito_Lesiones', 'tipo_delito_Robo (con violencia)'],\n",
       "      dtype='object')"
      ]
     },
     "metadata": {},
     "output_type": "display_data"
    },
    {
     "data": {
      "text/plain": [
       "Index(['surface_total', 'surface_covered', 'bathrooms', 'price', 'rooms',\n",
       "       'bedrooms', 'count', 'property_type_Casa', 'property_type_Departamento',\n",
       "       'property_type_PH', 'l3_Agronomía', 'l3_Almagro', 'l3_Balvanera',\n",
       "       'l3_Barracas', 'l3_Belgrano', 'l3_Boca', 'l3_Boedo', 'l3_Caballito',\n",
       "       'l3_Chacarita', 'l3_Coghlan', 'l3_Colegiales', 'l3_Constitución',\n",
       "       'l3_Flores', 'l3_Floresta', 'l3_Liniers', 'l3_Mataderos',\n",
       "       'l3_Monserrat', 'l3_Monte Castro', 'l3_Nueva Pompeya', 'l3_Nuñez',\n",
       "       'l3_Palermo', 'l3_Parque Avellaneda', 'l3_Parque Chacabuco',\n",
       "       'l3_Parque Chas', 'l3_Parque Patricios', 'l3_Paternal',\n",
       "       'l3_Puerto Madero', 'l3_Recoleta', 'l3_Retiro', 'l3_Saavedra',\n",
       "       'l3_San Nicolás', 'l3_San Telmo', 'l3_Versalles', 'l3_Villa Crespo',\n",
       "       'l3_Villa Devoto', 'l3_Villa Lugano', 'l3_Villa Luro',\n",
       "       'l3_Villa Ortuzar', 'l3_Villa Pueyrredón', 'l3_Villa Real',\n",
       "       'l3_Villa Riachuelo', 'l3_Villa Santa Rita', 'l3_Villa Soldati',\n",
       "       'l3_Villa Urquiza', 'l3_Villa del Parque', 'tipo_delito_Homicidio',\n",
       "       'tipo_delito_Hurto (sin violencia)', 'tipo_delito_Lesiones',\n",
       "       'tipo_delito_Robo (con violencia)'],\n",
       "      dtype='object')"
      ]
     },
     "execution_count": 37,
     "metadata": {},
     "output_type": "execute_result"
    }
   ],
   "source": [
    "display(new_properati_Capital1_All_sin_bedrooms_clean_l3_security3.columns)\n",
    "new_properati_Capital1_All_sin_bedrooms_clean_l3_security_normalizado3.columns"
   ]
  },
  {
   "cell_type": "markdown",
   "metadata": {},
   "source": [
    "### 3 - Comparacion por RMSE con resultados del mejor modelo del proyecto 2\n",
    "\n",
    "### 3.1 - XGboost con df new_properati_Capital1_All_sin_bedrooms_clean_l3_security3, con todos los atributos categoricos (barrios, tipo de delito y tipo de propiedad)"
   ]
  },
  {
   "cell_type": "markdown",
   "metadata": {},
   "source": [
    "#### - Recordemos que es el df sin normalizar, pero si con encoding de atributos categoricos."
   ]
  },
  {
   "cell_type": "code",
   "execution_count": 38,
   "metadata": {},
   "outputs": [],
   "source": [
    "import sklearn.metrics as metrics\n",
    "from sklearn.model_selection import train_test_split\n",
    "from sklearn.linear_model import LinearRegression\n",
    "from sklearn.tree import DecisionTreeRegressor\n",
    "from sklearn.neighbors import KNeighborsRegressor\n",
    "from sklearn.metrics import mean_squared_error\n",
    "from sklearn.model_selection import learning_curve\n",
    "from sklearn.neighbors import KNeighborsClassifier\n",
    "from sklearn.model_selection import GridSearchCV\n",
    "from sklearn.model_selection import RandomizedSearchCV\n",
    "from sklearn.metrics import confusion_matrix, accuracy_score\n",
    "from sklearn.model_selection import cross_val_score\n",
    "from sklearn.model_selection import ParameterGrid\n",
    "from sklearn.metrics import mean_squared_error\n",
    "from sklearn.pipeline import make_pipeline\n",
    "import time"
   ]
  },
  {
   "cell_type": "code",
   "execution_count": 39,
   "metadata": {},
   "outputs": [],
   "source": [
    "import xgboost as xgb\n",
    "\n",
    "\n",
    "X = new_properati_Capital1_All_sin_bedrooms_clean_l3_security3[[ \"bathrooms\",\"surface_covered\",\"surface_total\", 'count',\n",
    "       'property_type_Casa', 'property_type_Departamento', 'property_type_PH',\n",
    "       'l3_Agronomía', 'l3_Almagro', 'l3_Balvanera', 'l3_Barracas',\n",
    "       'l3_Belgrano', 'l3_Boca', 'l3_Boedo', 'l3_Caballito', 'l3_Chacarita',\n",
    "       'l3_Coghlan', 'l3_Colegiales', 'l3_Constitución', 'l3_Flores',\n",
    "       'l3_Floresta', 'l3_Liniers', 'l3_Mataderos', 'l3_Monserrat',\n",
    "       'l3_Monte Castro', 'l3_Nueva Pompeya', 'l3_Nuñez', 'l3_Palermo',\n",
    "       'l3_Parque Avellaneda', 'l3_Parque Chacabuco', 'l3_Parque Chas',\n",
    "       'l3_Parque Patricios', 'l3_Paternal', 'l3_Puerto Madero', 'l3_Recoleta',\n",
    "       'l3_Retiro', 'l3_Saavedra', 'l3_San Nicolás', 'l3_San Telmo',\n",
    "       'l3_Versalles', 'l3_Villa Crespo', 'l3_Villa Devoto', 'l3_Villa Lugano',\n",
    "       'l3_Villa Luro', 'l3_Villa Ortuzar', 'l3_Villa Pueyrredón',\n",
    "       'l3_Villa Real', 'l3_Villa Riachuelo', 'l3_Villa Santa Rita',\n",
    "       'l3_Villa Soldati', 'l3_Villa Urquiza', 'l3_Villa del Parque','tipo_delito_Homicidio', 'tipo_delito_Hurto (sin violencia)',\n",
    "       'tipo_delito_Lesiones', 'tipo_delito_Robo (con violencia)']]\n",
    "\n",
    "y =new_properati_Capital1_All_sin_bedrooms_clean_l3_security3[['price']]\n",
    "\n",
    "X_train, X_test, y_train, y_test = train_test_split(X, y, test_size=0.3, random_state=42)\n",
    "\n"
   ]
  },
  {
   "cell_type": "code",
   "execution_count": 40,
   "metadata": {},
   "outputs": [],
   "source": [
    "model_xgb_r=xgb.XGBRegressor(booster=\"gbtree\",silent=True,randomstate=42)\n",
    "\n",
    "parameters_xgb={\"n_estimators\":[100,200,400,600],\n",
    "                \"gamma\":[0.2,0.4,0.6,0.8],\n",
    "                \"learning_rate\":[0.05,0.1],\n",
    "                \"n_estimators\":[100,200,400,600],\n",
    "                \"max_depth\":[4,8,10.15]}\n",
    "\n",
    "\n",
    "grid = GridSearchCV(estimator=model_xgb_r, param_grid=parameters_xgb,cv=7,n_jobs=-5)\n"
   ]
  },
  {
   "cell_type": "code",
   "execution_count": 41,
   "metadata": {},
   "outputs": [
    {
     "name": "stdout",
     "output_type": "stream",
     "text": [
      "185.359375\n"
     ]
    }
   ],
   "source": [
    "t = time.process_time()\n",
    "\n",
    "grid.fit(X_train, y_train)\n",
    "\n",
    "elapsed_time = time.process_time() - t\n",
    "\n",
    "print(elapsed_time)"
   ]
  },
  {
   "cell_type": "code",
   "execution_count": 42,
   "metadata": {},
   "outputs": [],
   "source": [
    "y_train_pred_8= grid.predict(X_train)\n",
    "y_test_pred_8= grid.predict(X_test) "
   ]
  },
  {
   "cell_type": "code",
   "execution_count": 43,
   "metadata": {},
   "outputs": [
    {
     "name": "stdout",
     "output_type": "stream",
     "text": [
      "RMSE sobre el train set:  28329.31392120694\n",
      "RMSE sobre el test set:  29805.83059479551\n"
     ]
    }
   ],
   "source": [
    "rmse_train = np.sqrt(mean_squared_error(y_train, y_train_pred_8))\n",
    "rmse_test = np.sqrt(mean_squared_error(y_test, y_test_pred_8))\n",
    "\n",
    "print('RMSE sobre el train set: ', rmse_train)\n",
    "print('RMSE sobre el test set: ', rmse_test)"
   ]
  },
  {
   "cell_type": "markdown",
   "metadata": {},
   "source": [
    "### 3.2 - XGboost con df new_properati_Capital1_All_sin_bedrooms_clean_l3_security_normalizado3, con todos los atributos categoricos (barrios, tipo de delito y tipo de propiedad)"
   ]
  },
  {
   "cell_type": "markdown",
   "metadata": {},
   "source": [
    "#### - Recordemos que es el df normalizado y con el encoding en los atributos categoricos que vamos a analizar."
   ]
  },
  {
   "cell_type": "code",
   "execution_count": 44,
   "metadata": {},
   "outputs": [],
   "source": [
    "import xgboost as xgb\n",
    "\n",
    "\n",
    "X = new_properati_Capital1_All_sin_bedrooms_clean_l3_security_normalizado3[[ \"bathrooms\",\"surface_covered\",\"surface_total\", 'count',\n",
    "       'property_type_Casa', 'property_type_Departamento', 'property_type_PH',\n",
    "       'l3_Agronomía', 'l3_Almagro', 'l3_Balvanera', 'l3_Barracas',\n",
    "       'l3_Belgrano', 'l3_Boca', 'l3_Boedo', 'l3_Caballito', 'l3_Chacarita',\n",
    "       'l3_Coghlan', 'l3_Colegiales', 'l3_Constitución', 'l3_Flores',\n",
    "       'l3_Floresta', 'l3_Liniers', 'l3_Mataderos', 'l3_Monserrat',\n",
    "       'l3_Monte Castro', 'l3_Nueva Pompeya', 'l3_Nuñez', 'l3_Palermo',\n",
    "       'l3_Parque Avellaneda', 'l3_Parque Chacabuco', 'l3_Parque Chas',\n",
    "       'l3_Parque Patricios', 'l3_Paternal', 'l3_Puerto Madero', 'l3_Recoleta',\n",
    "       'l3_Retiro', 'l3_Saavedra', 'l3_San Nicolás', 'l3_San Telmo',\n",
    "       'l3_Versalles', 'l3_Villa Crespo', 'l3_Villa Devoto', 'l3_Villa Lugano',\n",
    "       'l3_Villa Luro', 'l3_Villa Ortuzar', 'l3_Villa Pueyrredón',\n",
    "       'l3_Villa Real', 'l3_Villa Riachuelo', 'l3_Villa Santa Rita',\n",
    "       'l3_Villa Soldati', 'l3_Villa Urquiza', 'l3_Villa del Parque','tipo_delito_Homicidio', 'tipo_delito_Hurto (sin violencia)',\n",
    "       'tipo_delito_Lesiones', 'tipo_delito_Robo (con violencia)']]\n",
    "\n",
    "y =new_properati_Capital1_All_sin_bedrooms_clean_l3_security_normalizado3[['price']]\n",
    "\n",
    "X_train, X_test, y_train, y_test = train_test_split(X, y, test_size=0.3, random_state=42)\n",
    "\n"
   ]
  },
  {
   "cell_type": "code",
   "execution_count": 45,
   "metadata": {},
   "outputs": [],
   "source": [
    "model_xgb_r=xgb.XGBRegressor(booster=\"gbtree\",silent=True,randomstate=42)\n",
    "\n",
    "parameters_xgb={\"n_estimators\":[100,200,400,600],\n",
    "                \"gamma\":[0.2,0.4,0.6,0.8],\n",
    "                \"learning_rate\":[0.05,0.1],\n",
    "                \"n_estimators\":[100,200,400,600],\n",
    "                \"max_depth\":[4,8,10.15]}\n",
    "\n",
    "\n",
    "grid = GridSearchCV(estimator=model_xgb_r, param_grid=parameters_xgb,cv=7,n_jobs=-5)\n"
   ]
  },
  {
   "cell_type": "code",
   "execution_count": 46,
   "metadata": {},
   "outputs": [
    {
     "name": "stdout",
     "output_type": "stream",
     "text": [
      "174.953125\n"
     ]
    }
   ],
   "source": [
    "t = time.process_time()\n",
    "\n",
    "grid.fit(X_train, y_train)\n",
    "\n",
    "elapsed_time = time.process_time() - t\n",
    "\n",
    "print(elapsed_time)"
   ]
  },
  {
   "cell_type": "code",
   "execution_count": 47,
   "metadata": {},
   "outputs": [],
   "source": [
    "y_train_pred_8= grid.predict(X_train)\n",
    "y_test_pred_8= grid.predict(X_test)"
   ]
  },
  {
   "cell_type": "code",
   "execution_count": 48,
   "metadata": {},
   "outputs": [
    {
     "name": "stdout",
     "output_type": "stream",
     "text": [
      "RMSE sobre el train set:  0.32015960608126737\n",
      "RMSE sobre el test set:  0.3369222061813652\n"
     ]
    }
   ],
   "source": [
    "rmse_train = np.sqrt(mean_squared_error(y_train, y_train_pred_8))\n",
    "rmse_test = np.sqrt(mean_squared_error(y_test, y_test_pred_8))\n",
    "\n",
    "print('RMSE sobre el train set: ', rmse_train)\n",
    "print('RMSE sobre el test set: ', rmse_test)"
   ]
  },
  {
   "cell_type": "markdown",
   "metadata": {},
   "source": [
    "### 3.3 - XGboost con df new_properati_Capital1_All_sin_bedrooms_clean_l3_security3 pero solo con los 6 atributos que utilice en el proyecto2 (solo categorico el tipo de propiedad)."
   ]
  },
  {
   "cell_type": "code",
   "execution_count": 49,
   "metadata": {},
   "outputs": [],
   "source": [
    "X = new_properati_Capital1_All_sin_bedrooms_clean_l3_security3[[ \"bathrooms\",\"surface_covered\",\"surface_total\", \n",
    "       'property_type_Casa', 'property_type_Departamento', 'property_type_PH']]\n",
    "\n",
    "y =new_properati_Capital1_All_sin_bedrooms_clean_l3_security3[['price']]\n",
    "\n",
    "X_train, X_test, y_train, y_test = train_test_split(X, y, test_size=0.3, random_state=42)\n"
   ]
  },
  {
   "cell_type": "code",
   "execution_count": 50,
   "metadata": {},
   "outputs": [],
   "source": [
    "model_xgb_r=xgb.XGBRegressor(booster=\"gbtree\",silent=True,randomstate=42)\n",
    "\n",
    "parameters_xgb={\"n_estimators\":[100,200,400,600],\n",
    "                \"gamma\":[0.2,0.4,0.6,0.8],\n",
    "                \"learning_rate\":[0.05,0.1],\n",
    "                \"n_estimators\":[100,200,400,600],\n",
    "                \"max_depth\":[4,8,10.15]}\n",
    "\n",
    "\n",
    "grid = GridSearchCV(estimator=model_xgb_r, param_grid=parameters_xgb,cv=7,n_jobs=-5)\n"
   ]
  },
  {
   "cell_type": "code",
   "execution_count": 51,
   "metadata": {},
   "outputs": [
    {
     "name": "stdout",
     "output_type": "stream",
     "text": [
      "39.859375\n"
     ]
    }
   ],
   "source": [
    "t = time.process_time()\n",
    "\n",
    "grid.fit(X_train, y_train)\n",
    "\n",
    "elapsed_time = time.process_time() - t\n",
    "\n",
    "print(elapsed_time)"
   ]
  },
  {
   "cell_type": "code",
   "execution_count": 52,
   "metadata": {},
   "outputs": [],
   "source": [
    "y_train_pred_8= grid.predict(X_train)\n",
    "y_test_pred_8= grid.predict(X_test)"
   ]
  },
  {
   "cell_type": "code",
   "execution_count": 53,
   "metadata": {},
   "outputs": [
    {
     "name": "stdout",
     "output_type": "stream",
     "text": [
      "RMSE sobre el train set:  42833.09268711347\n",
      "RMSE sobre el test set:  43901.709795165814\n"
     ]
    }
   ],
   "source": [
    "rmse_train = np.sqrt(mean_squared_error(y_train, y_train_pred_8))\n",
    "rmse_test = np.sqrt(mean_squared_error(y_test, y_test_pred_8))\n",
    "\n",
    "print('RMSE sobre el train set: ', rmse_train)\n",
    "print('RMSE sobre el test set: ', rmse_test)"
   ]
  },
  {
   "cell_type": "code",
   "execution_count": 54,
   "metadata": {},
   "outputs": [
    {
     "name": "stdout",
     "output_type": "stream",
     "text": [
      "[0.12922369 0.39031056 0.14315313 0.03282222 0.22414821 0.08034214]\n"
     ]
    }
   ],
   "source": [
    "importancias_features=grid.best_estimator_.feature_importances_\n",
    "print(importancias_features)\n",
    "#Orden X = data_premiun1[[ \"bathrooms\",\"surface_covered\",\"surface_total\"]]"
   ]
  },
  {
   "cell_type": "markdown",
   "metadata": {},
   "source": [
    "### 3.4 - XGboost con df new_properati_Capital1_All_sin_bedrooms_clean_l3_security_normalizado3 pero solo con los 6 atributos que utilice en el proyecto2 (solo categorico el tipo de propiedad)."
   ]
  },
  {
   "cell_type": "code",
   "execution_count": 55,
   "metadata": {},
   "outputs": [],
   "source": [
    "import xgboost as xgb\n",
    "\n",
    "\n",
    "X = new_properati_Capital1_All_sin_bedrooms_clean_l3_security_normalizado3[[ \"bathrooms\",\"surface_covered\",\"surface_total\", \n",
    "       'property_type_Casa', 'property_type_Departamento', 'property_type_PH']]\n",
    "\n",
    "y =new_properati_Capital1_All_sin_bedrooms_clean_l3_security_normalizado3[['price']]\n",
    "\n",
    "X_train, X_test, y_train, y_test = train_test_split(X, y, test_size=0.3, random_state=42)\n",
    "\n"
   ]
  },
  {
   "cell_type": "code",
   "execution_count": 56,
   "metadata": {},
   "outputs": [],
   "source": [
    "model_xgb_r=xgb.XGBRegressor(booster=\"gbtree\",silent=True,randomstate=42)\n",
    "\n",
    "parameters_xgb={\"n_estimators\":[100,200,400,600],\n",
    "                \"gamma\":[0.2,0.4,0.6,0.8],\n",
    "                \"learning_rate\":[0.05,0.1],\n",
    "                \"n_estimators\":[100,200,400,600],\n",
    "                \"max_depth\":[4,8,10.15]}\n",
    "\n",
    "\n",
    "grid = GridSearchCV(estimator=model_xgb_r, param_grid=parameters_xgb,cv=7,n_jobs=-5)\n"
   ]
  },
  {
   "cell_type": "code",
   "execution_count": 57,
   "metadata": {},
   "outputs": [
    {
     "name": "stdout",
     "output_type": "stream",
     "text": [
      "42.96875\n"
     ]
    }
   ],
   "source": [
    "t = time.process_time()\n",
    "\n",
    "grid.fit(X_train, y_train)\n",
    "\n",
    "elapsed_time = time.process_time() - t\n",
    "\n",
    "print(elapsed_time)"
   ]
  },
  {
   "cell_type": "code",
   "execution_count": 58,
   "metadata": {},
   "outputs": [],
   "source": [
    "y_train_pred_8= grid.predict(X_train)\n",
    "y_test_pred_8= grid.predict(X_test)"
   ]
  },
  {
   "cell_type": "code",
   "execution_count": 59,
   "metadata": {},
   "outputs": [
    {
     "name": "stdout",
     "output_type": "stream",
     "text": [
      "RMSE sobre el train set:  0.4864186130169161\n",
      "RMSE sobre el test set:  0.49824006842916896\n"
     ]
    }
   ],
   "source": [
    "rmse_train = np.sqrt(mean_squared_error(y_train, y_train_pred_8))\n",
    "rmse_test = np.sqrt(mean_squared_error(y_test, y_test_pred_8))\n",
    "\n",
    "print('RMSE sobre el train set: ', rmse_train)\n",
    "print('RMSE sobre el test set: ', rmse_test)"
   ]
  },
  {
   "cell_type": "code",
   "execution_count": 60,
   "metadata": {},
   "outputs": [
    {
     "name": "stdout",
     "output_type": "stream",
     "text": [
      "[0.13629256 0.36501378 0.1258701  0.03342702 0.2639274  0.07546911]\n"
     ]
    }
   ],
   "source": [
    "importancias_features=grid.best_estimator_.feature_importances_\n",
    "print(importancias_features)\n",
    "#Orden X = data_premiun1[[ \"bathrooms\",\"surface_covered\",\"surface_total\"]]"
   ]
  },
  {
   "cell_type": "markdown",
   "metadata": {},
   "source": [
    "### 3.5 - Conclusiones/Resultados del RMSE"
   ]
  },
  {
   "cell_type": "markdown",
   "metadata": {},
   "source": [
    "#### - Viendo las diferencias entre los RMSE de Train y Test no hay una diferencia que nos \"avise\" de una sobreajuste.\n",
    "\n",
    "#### - La mejora en el RMSE Test de este df del proyecto 2, habiendole agregado los atributos de seguridad, fue de un __32%__"
   ]
  },
  {
   "cell_type": "markdown",
   "metadata": {},
   "source": [
    "## 1) Df - __new_properati_Capital1_All_sin_bedrooms_clean_l3_security3__\n",
    "\n",
    "### - La mejora en el RMSE Test de este df del proyecto 2 habiendole agregado los atributos de seguridad fue de un __32%__\n",
    "\n",
    ">#### a) - __Atributos:__ \"bathrooms\",\"surface_covered\",\"surface_total\",'property_type_Casa', 'property_type_Departamento'y 'property_type_PH'\n",
    ">\n",
    ">Raíz del error cuadrático medio en Train: __42833.09__\n",
    ">\n",
    ">Raíz del error cuadrático medio en Test: __43901.70__\n",
    ">\n",
    ">Diferencia entre RMSE Train y Test: __1068__\n",
    ">\n",
    ">Tiempo de fit: 46 minutos.\n",
    "\n",
    ">#### b) - __Atributos:__ \"bathrooms\",\"surface_covered\",\"surface_total\", 'count','property_type_Casa', 'property_type_Departamento', 'property_type_PH','l3_Agronomía', 'l3_Almagro', 'l3_Balvanera', 'l3_Barracas',l3_Belgrano', 'l3_Boca', 'l3_Boedo', 'l3_Caballito', 'l3_Chacarita','l3_Coghlan', 'l3_Colegiales', 'l3_Constitución', 'l3_Flores','l3_Floresta', 'l3_Liniers', 'l3_Mataderos', 'l3_Monserrat','l3_Monte Castro', 'l3_Nueva Pompeya', 'l3_Nuñez', 'l3_Palermo','l3_Parque Avellaneda', 'l3_Parque Chacabuco', 'l3_Parque Chas','l3_Parque Patricios', 'l3_Paternal', 'l3_Puerto Madero', 'l3_Recoleta','l3_Retiro', 'l3_Saavedra', 'l3_San Nicolás', 'l3_San Telmo','l3_Versalles', 'l3_Villa Crespo', 'l3_Villa Devoto', 'l3_Villa Lugano',    'l3_Villa Luro', 'l3_Villa Ortuzar', 'l3_Villa Pueyrredón','l3_Villa Real', 'l3_Villa Riachuelo', 'l3_Villa Santa Rita','l3_Villa Soldati', 'l3_Villa Urquiza', 'l3_Villa del Parque','tipo_delito_Homicidio', 'tipo_delito_Hurto (sin violencia)', 'tipo_delito_Lesiones' y 'tipo_delito_Robo (con violencia.\n",
    ">\n",
    ">Raíz del error cuadrático medio en Train: __28329.31__\n",
    ">\n",
    ">Raíz del error cuadrático medio en Test: __29805.83__\n",
    ">\n",
    ">Diferencia entre RMSE Train y Test: __1476__\n",
    ">\n",
    ">Tiempo de fit: __194 minutos.__\n",
    "\n",
    "## 2) Df - __new_properati_Capital1_All_sin_bedrooms_clean_l3_security_normalizado3__\n",
    "\n",
    "### - La mejora en el RMSE Test de este df del proyecto 2 habiendole agregado los atributos de seguridad fue de un __32%__\n",
    "\n",
    ">#### a) - __Atributos:__ \"bathrooms\",\"surface_covered\",\"surface_total\",'property_type_Casa', 'property_type_Departamento'y 'property_type_PH'\n",
    ">\n",
    ">Raíz del error cuadrático medio en Train: __0.48641__\n",
    ">\n",
    ">Raíz del error cuadrático medio en Test: __0.49824__\n",
    ">\n",
    ">Diferencia entre RMSE Train y Test: __0.01183__\n",
    ">\n",
    ">Tiempo de fit: __48 minutos__\n",
    "\n",
    ">#### b) - __Atributos:__ \"bathrooms\",\"surface_covered\",\"surface_total\", 'count','property_type_Casa', 'property_type_Departamento', 'property_type_PH','l3_Agronomía', 'l3_Almagro', 'l3_Balvanera', 'l3_Barracas',l3_Belgrano', 'l3_Boca', 'l3_Boedo', 'l3_Caballito', 'l3_Chacarita','l3_Coghlan', 'l3_Colegiales', 'l3_Constitución', 'l3_Flores','l3_Floresta', 'l3_Liniers', 'l3_Mataderos', 'l3_Monserrat','l3_Monte Castro', 'l3_Nueva Pompeya', 'l3_Nuñez', 'l3_Palermo','l3_Parque Avellaneda', 'l3_Parque Chacabuco', 'l3_Parque Chas','l3_Parque Patricios', 'l3_Paternal', 'l3_Puerto Madero', 'l3_Recoleta','l3_Retiro', 'l3_Saavedra', 'l3_San Nicolás', 'l3_San Telmo','l3_Versalles', 'l3_Villa Crespo', 'l3_Villa Devoto', 'l3_Villa Lugano',    'l3_Villa Luro', 'l3_Villa Ortuzar', 'l3_Villa Pueyrredón','l3_Villa Real', 'l3_Villa Riachuelo', 'l3_Villa Santa Rita','l3_Villa Soldati', 'l3_Villa Urquiza', 'l3_Villa del Parque','tipo_delito_Homicidio', 'tipo_delito_Hurto (sin violencia)', 'tipo_delito_Lesiones' y 'tipo_delito_Robo (con violencia.\n",
    ">\n",
    ">Raíz del error cuadrático medio en Train: __0.32015__\n",
    ">\n",
    ">Raíz del error cuadrático medio en Test: __0.33692__\n",
    ">\n",
    ">Diferencia entre RMSE Train y Test: __0.01677__\n",
    ">\n",
    ">Tiempo de fit: __207 minutos__"
   ]
  },
  {
   "cell_type": "markdown",
   "metadata": {},
   "source": [
    "### 4 - Reduccion de tiempo de fit/Reduccion de dimensionalidad por PCA"
   ]
  },
  {
   "cell_type": "markdown",
   "metadata": {},
   "source": [
    "#### - Voy a intentar hacer una reduccion de dimensionalidad con el modelo de PCA para intetar bajar los tiempos de fit sin empeorar significativamente en los valores de RMSE y sin aumentar el sobreajuste."
   ]
  },
  {
   "cell_type": "code",
   "execution_count": 61,
   "metadata": {},
   "outputs": [],
   "source": [
    "from sklearn.decomposition import PCA\n",
    "\n",
    "X = new_properati_Capital1_All_sin_bedrooms_clean_l3_security_normalizado3[[ \"bathrooms\",\"surface_covered\",\"surface_total\", 'count',\n",
    "       'property_type_Casa', 'property_type_Departamento', 'property_type_PH',\n",
    "       'l3_Agronomía', 'l3_Almagro', 'l3_Balvanera', 'l3_Barracas',\n",
    "       'l3_Belgrano', 'l3_Boca', 'l3_Boedo', 'l3_Caballito', 'l3_Chacarita',\n",
    "       'l3_Coghlan', 'l3_Colegiales', 'l3_Constitución', 'l3_Flores',\n",
    "       'l3_Floresta', 'l3_Liniers', 'l3_Mataderos', 'l3_Monserrat',\n",
    "       'l3_Monte Castro', 'l3_Nueva Pompeya', 'l3_Nuñez', 'l3_Palermo',\n",
    "       'l3_Parque Avellaneda', 'l3_Parque Chacabuco', 'l3_Parque Chas',\n",
    "       'l3_Parque Patricios', 'l3_Paternal', 'l3_Puerto Madero', 'l3_Recoleta',\n",
    "       'l3_Retiro', 'l3_Saavedra', 'l3_San Nicolás', 'l3_San Telmo',\n",
    "       'l3_Versalles', 'l3_Villa Crespo', 'l3_Villa Devoto', 'l3_Villa Lugano',\n",
    "       'l3_Villa Luro', 'l3_Villa Ortuzar', 'l3_Villa Pueyrredón',\n",
    "       'l3_Villa Real', 'l3_Villa Riachuelo', 'l3_Villa Santa Rita',\n",
    "       'l3_Villa Soldati', 'l3_Villa Urquiza', 'l3_Villa del Parque','tipo_delito_Homicidio', 'tipo_delito_Hurto (sin violencia)',\n",
    "       'tipo_delito_Lesiones', 'tipo_delito_Robo (con violencia)']]\n",
    "\n",
    "y =new_properati_Capital1_All_sin_bedrooms_clean_l3_security_normalizado3[['price']]\n",
    "\n",
    "X_train, X_test, y_train, y_test = train_test_split(X, y, test_size=0.3, random_state=42)"
   ]
  },
  {
   "cell_type": "code",
   "execution_count": 62,
   "metadata": {},
   "outputs": [],
   "source": [
    "pca = PCA(n_components=7)\n",
    "X_nuevo = pca.fit_transform(X) "
   ]
  },
  {
   "cell_type": "code",
   "execution_count": 63,
   "metadata": {},
   "outputs": [],
   "source": [
    "import xgboost as xgb\n",
    "\n",
    "X_train, X_test, y_train, y_test = train_test_split(X_nuevo, y, test_size=0.3, random_state=42)\n",
    "\n"
   ]
  },
  {
   "cell_type": "code",
   "execution_count": 64,
   "metadata": {},
   "outputs": [],
   "source": [
    "model_xgb_r=xgb.XGBRegressor(booster=\"gbtree\",silent=True,randomstate=42)\n",
    "\n",
    "parameters_xgb={\"n_estimators\":[100,200,400,600],\n",
    "                \"gamma\":[0.2,0.4,0.6,0.8],\n",
    "                \"learning_rate\":[0.05,0.1],\n",
    "                \"n_estimators\":[100,200,400,600],\n",
    "                \"max_depth\":[4,8,10.15]}\n",
    "\n",
    "\n",
    "grid = GridSearchCV(estimator=model_xgb_r, param_grid=parameters_xgb,cv=7,n_jobs=-5)\n"
   ]
  },
  {
   "cell_type": "code",
   "execution_count": 65,
   "metadata": {},
   "outputs": [
    {
     "name": "stdout",
     "output_type": "stream",
     "text": [
      "89.609375\n"
     ]
    }
   ],
   "source": [
    "t = time.process_time()\n",
    "\n",
    "grid.fit(X_train, y_train)\n",
    "\n",
    "elapsed_time = time.process_time() - t\n",
    "\n",
    "print(elapsed_time)"
   ]
  },
  {
   "cell_type": "code",
   "execution_count": 66,
   "metadata": {},
   "outputs": [],
   "source": [
    "y_train_pred_8= grid.predict(X_train)\n",
    "y_test_pred_8= grid.predict(X_test)"
   ]
  },
  {
   "cell_type": "code",
   "execution_count": 67,
   "metadata": {},
   "outputs": [
    {
     "name": "stdout",
     "output_type": "stream",
     "text": [
      "RMSE sobre el train set:  0.3919547718719644\n",
      "RMSE sobre el test set:  0.44478192264964517\n"
     ]
    }
   ],
   "source": [
    "rmse_train = np.sqrt(mean_squared_error(y_train, y_train_pred_8))\n",
    "rmse_test = np.sqrt(mean_squared_error(y_test, y_test_pred_8))\n",
    "\n",
    "print('RMSE sobre el train set: ', rmse_train)\n",
    "print('RMSE sobre el test set: ', rmse_test)"
   ]
  },
  {
   "cell_type": "markdown",
   "metadata": {},
   "source": [
    "### 4.1 - Conclusiones/Resultados del PCA"
   ]
  },
  {
   "cell_type": "markdown",
   "metadata": {},
   "source": [
    "#### - Si bien el tiempo de fit se redujo de 207 a 90 minutos (56%), el RMSE de Train __con respecto__ a Test se amplio de 0.01677 a 0.063167 (270%). __Este es el mayor problema ya que muestra un aumento del sobreajuste.__\n",
    "\n",
    "#### - El RMSE train aumento un 16%; de 0.32015 a 0.3919.\n",
    "\n",
    "#### - El RMSE test aumento un 29%;  de 0.33692 a 0.4447.\n"
   ]
  },
  {
   "cell_type": "markdown",
   "metadata": {},
   "source": [
    "### 5 - Conclusiones Generales Finales."
   ]
  },
  {
   "cell_type": "markdown",
   "metadata": {},
   "source": [
    "#### - La mejora en el RMSE Test de este df del proyecto2, habiendole agregado los atributos de seguridad, fue de un __32%__.\n",
    "\n",
    "#### - Esa mejora en el RMSe Test de un 32 % es igual para el df normalizado o no; (new_properati_Capital1_All_sin_bedrooms_clean_l3_security_normalizado3 o new_properati_Capital1_All_sin_bedrooms_clean_l3_security3)\n",
    "\n",
    "#### - Luego del PCA, si bien el tiempo de fit se redujo de 207 a 90 minutos (56%), con 7 componentes, el RMSE de Train con respecto a Test, se amplio de 0.01677 a 0.063167 (270%). Este es el mayor problema ya que muestra un aumento del sobreajuste. Ademas el RMSE Test aumento un 27%;  de 0.33692 a 0.4292. Para un analisis futuro se podria seguir analizando con __distinto numero de componentes e hiperparametros del modelo.__"
   ]
  },
  {
   "cell_type": "code",
   "execution_count": null,
   "metadata": {},
   "outputs": [],
   "source": []
  }
 ],
 "metadata": {
  "kernelspec": {
   "display_name": "Python 3",
   "language": "python",
   "name": "python3"
  },
  "language_info": {
   "codemirror_mode": {
    "name": "ipython",
    "version": 3
   },
   "file_extension": ".py",
   "mimetype": "text/x-python",
   "name": "python",
   "nbconvert_exporter": "python",
   "pygments_lexer": "ipython3",
   "version": "3.7.6"
  }
 },
 "nbformat": 4,
 "nbformat_minor": 4
}
